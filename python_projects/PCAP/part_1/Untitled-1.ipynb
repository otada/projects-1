{
 "cells": [
  {
   "cell_type": "code",
   "execution_count": 17,
   "metadata": {},
   "outputs": [
    {
     "data": {
      "text/plain": [
       "range"
      ]
     },
     "execution_count": 17,
     "metadata": {},
     "output_type": "execute_result"
    }
   ],
   "source": [
    "parameters = {\n",
    "    \"calculate_congested_ivtt_flag\": True,\n",
    "    \"node_logit_scale\": True,\n",
    "    \"effective_headway_attribute\": \"@ehdw1\",\n",
    "    \"effective_headway_slope\": 0.165,\n",
    "    \"headway_fraction_attribute\": \"@frac1\",\n",
    "    \"iterations\": 100,\n",
    "    \"norm_gap\": 0,\n",
    "    \"rel_gap\": 0,\n",
    "    \"scenario_number\": 1,\n",
    "    \"walk_speed\": 0,\n",
    "    \"transit_classes\": [\n",
    "        {\n",
    "            \"name\": \"transit_class_1\",\n",
    "            \"board_penalty_matrix\": \"mf0\",\n",
    "            \"board_penalty_perception\": 1,\n",
    "            \"congestion_matrix\": \"mf0\",\n",
    "            \"demand_matrix\": \"mf0\",\n",
    "            \"fare_matrix\": \"mf0\",\n",
    "            \"fare_perception\": 0,\n",
    "            \"in_vehicle_time_matrix\": \"mf0\",\n",
    "            \"impedance_matrix\": \"mf0\",\n",
    "            \"link_fare_attribute_id\": \"@lfare1\",\n",
    "            \"mode\": \"*\",\n",
    "            \"perceived_travel_time_matrix\": \"mf0\",\n",
    "            \"segment_fare_attribute\": \"@sfare1\",\n",
    "            \"wait_time_perception\": 0,\n",
    "            \"wait_time_matrix\": \"mf0\",\n",
    "            \"walk_time_perception_attribute\": \"@walkp1\",\n",
    "            \"walk_time_matrix\": \"mf0\",\n",
    "            \"walk_perceptions\": [\n",
    "                {\n",
    "                    \"filter\": \"i=10000,20000 or j=1...7000,98000\",\n",
    "                    \"walk_perception_value\": 1.8,\n",
    "                }\n",
    "            ],\n",
    "        }\n",
    "    ],\n",
    "    \"surface_transit_speeds\": [\n",
    "        {\n",
    "            \"alighting_duration\": 1.1219,\n",
    "            \"boarding_duration\": 1.9577,\n",
    "            \"default_duration\": 7.4331,\n",
    "            \"global_erow_speed\": 35,\n",
    "            \"line_filter_expression\": \"\",\n",
    "            \"mode_filter_expression\": \"b\",\n",
    "            \"transit_auto_correlation\": 1.612,\n",
    "        }\n",
    "    ],\n",
    "    \"ttf_definitions\": [\n",
    "        {\"congestion_exponent\": 5.972385, \"congestion_perception\": 1, \"ttf\": 1}\n",
    "    ],\n",
    "    \"congestion_exponent\": \"\",\n",
    "    \"assignment_period\": 0,\n",
    "    \"name_string\": \"\",\n",
    "    \"congested_assignment\": \"\",\n",
    "    \"csvfile\": \"\",\n",
    "    \"origin_distribution_logit_scale\": 0,\n",
    "    \"walk_distribution_logit_scale\": 3,\n",
    "    \"surface_transit_speed\": \"\",\n",
    "    \"walk_all_way_flag\": False,\n",
    "    \"xrow_ttf_range\": \"\",\n",
    "}\n",
    "\n",
    "\n",
    "for iteration in range(0, parameters[\"iterations\"]):\n",
    "    for i, tc in enumerate(parameters[\"transit_classes\"]):\n",
    "        break\n",
    "\n",
    "type(range(1,100))\n",
    "    "
   ]
  }
 ],
 "metadata": {
  "interpreter": {
   "hash": "669f5abd92f1a410df15b0643b9f42360e277a412fc08ae8bc7d7911cf7e8f3d"
  },
  "kernelspec": {
   "display_name": "Python 3.10.2 64-bit",
   "language": "python",
   "name": "python3"
  },
  "language_info": {
   "codemirror_mode": {
    "name": "ipython",
    "version": 3
   },
   "file_extension": ".py",
   "mimetype": "text/x-python",
   "name": "python",
   "nbconvert_exporter": "python",
   "pygments_lexer": "ipython3",
   "version": "3.10.2"
  },
  "orig_nbformat": 4
 },
 "nbformat": 4,
 "nbformat_minor": 2
}

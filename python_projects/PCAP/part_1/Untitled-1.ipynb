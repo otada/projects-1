{
 "cells": [
  {
   "cell_type": "code",
   "execution_count": 1,
   "metadata": {},
   "outputs": [
    {
     "data": {
      "text/plain": [
       "range"
      ]
     },
     "execution_count": 1,
     "metadata": {},
     "output_type": "execute_result"
    }
   ],
   "source": [
    "parameters = {\n",
    "    \"calculate_congested_ivtt_flag\": True,\n",
    "    \"node_logit_scale\": True,\n",
    "    \"effective_headway_attribute\": \"@ehdw1\",\n",
    "    \"effective_headway_slope\": 0.165,\n",
    "    \"headway_fraction_attribute\": \"@frac1\",\n",
    "    \"iterations\": 100,\n",
    "    \"norm_gap\": 0,\n",
    "    \"rel_gap\": 0,\n",
    "    \"scenario_number\": 1,\n",
    "    \"walk_speed\": 0,\n",
    "    \"transit_classes\": [\n",
    "        {\n",
    "            \"name\": \"transit_class_1\",\n",
    "            \"board_penalty_matrix\": \"mf0\",\n",
    "            \"board_penalty_perception\": 1,\n",
    "            \"congestion_matrix\": \"mf0\",\n",
    "            \"demand_matrix\": \"mf0\",\n",
    "            \"fare_matrix\": \"mf0\",\n",
    "            \"fare_perception\": 0,\n",
    "            \"in_vehicle_time_matrix\": \"mf0\",\n",
    "            \"impedance_matrix\": \"mf0\",\n",
    "            \"link_fare_attribute_id\": \"@lfare1\",\n",
    "            \"mode\": \"*\",\n",
    "            \"perceived_travel_time_matrix\": \"mf0\",\n",
    "            \"segment_fare_attribute\": \"@sfare1\",\n",
    "            \"wait_time_perception\": 0,\n",
    "            \"wait_time_matrix\": \"mf0\",\n",
    "            \"walk_time_perception_attribute\": \"@walkp1\",\n",
    "            \"walk_time_matrix\": \"mf0\",\n",
    "            \"walk_perceptions\": [\n",
    "                {\n",
    "                    \"filter\": \"i=10000,20000 or j=1...7000,98000\",\n",
    "                    \"walk_perception_value\": 1.8,\n",
    "                }\n",
    "            ],\n",
    "        }\n",
    "    ],\n",
    "    \"surface_transit_speeds\": [\n",
    "        {\n",
    "            \"alighting_duration\": 1.1219,\n",
    "            \"boarding_duration\": 1.9577,\n",
    "            \"default_duration\": 7.4331,\n",
    "            \"global_erow_speed\": 35,\n",
    "            \"line_filter_expression\": \"\",\n",
    "            \"mode_filter_expression\": \"b\",\n",
    "            \"transit_auto_correlation\": 1.612,\n",
    "        }\n",
    "    ],\n",
    "    \"ttf_definitions\": [\n",
    "        {\"congestion_exponent\": 5.972385, \"congestion_perception\": 1, \"ttf\": 1}\n",
    "    ],\n",
    "    \"congestion_exponent\": \"\",\n",
    "    \"assignment_period\": 0,\n",
    "    \"name_string\": \"\",\n",
    "    \"congested_assignment\": \"\",\n",
    "    \"csvfile\": \"\",\n",
    "    \"origin_distribution_logit_scale\": 0,\n",
    "    \"walk_distribution_logit_scale\": 3,\n",
    "    \"surface_transit_speed\": \"\",\n",
    "    \"walk_all_way_flag\": False,\n",
    "    \"xrow_ttf_range\": \"\",\n",
    "}\n",
    "\n",
    "\n",
    "for iteration in range(0, parameters[\"iterations\"]):\n",
    "    for i, tc in enumerate(parameters[\"transit_classes\"]):\n",
    "        break\n",
    "\n",
    "type(range(1,100))\n",
    "    "
   ]
  },
  {
   "cell_type": "code",
   "execution_count": 1,
   "metadata": {},
   "outputs": [
    {
     "name": "stdout",
     "output_type": "stream",
     "text": [
      "args:  ('geeks', 'for', 'geeks')\n",
      "kwargs:  {'first': 'Geeks', 'mid': 'for', 'last': 'Geeks'}\n",
      "Geeks\n"
     ]
    }
   ],
   "source": [
    "def myFun(*args,**kwargs):\n",
    "    print(\"args: \", args)\n",
    "    print(\"kwargs: \", kwargs)\n",
    "    print(kwargs[\"first\"])\n",
    " \n",
    " \n",
    "# Now we can use both *args ,**kwargs\n",
    "# to pass arguments to this function :\n",
    "myFun('geeks','for','geeks',first=\"Geeks\",mid=\"for\",last=\"Geeks\")"
   ]
  },
  {
   "cell_type": "code",
   "execution_count": null,
   "metadata": {},
   "outputs": [],
   "source": [
    "{'modes': ['*'], 'demand': 'mf82', 'waiting_time': {'headway_fraction': '@frac', 'effective_headways': '@ehdw', 'spread_factor': 1, 'perception_factor': 0}, 'boarding_time': {'at_nodes': None, 'on_lines': {...}}, 'boarding_cost': {'at_nodes': {...}, 'on_lines': None}, 'in_vehicle_time': {'perception_factor': 'us2'}, 'in_vehicle_cost': {'penalty': '@sfare', 'perception_factor': 0.0}, 'aux_transit_time': {'perception_factor': '@walkp'}, 'aux_transit_cost': {'penalty': '@lfare', 'perception_factor': 0.0}, 'connector_to_connect...rohibition': None, 'od_results': {'total_impedance': 'mf83'}, 'flow_distribution_be...ween_lines': {'consider_total_impedance': True}, 'save_strategies': True, 'type': 'EXTENDED_TRANSIT_ASSIGNMENT', ...}\n",
    "    'modes': ['*']\n",
    "    'demand': 'mf82'\n",
    "    'waiting_time': {'headway_fraction': '@frac', 'effective_headways': '@ehdw', 'spread_factor': 1, 'perception_factor': 0}\n",
    "    'boarding_time': {'at_nodes': None, 'on_lines': {'penalty': 'ut3', 'perception_factor': 1}}\n",
    "    'boarding_cost': {'at_nodes': {'penalty': 0, 'perception_factor': 1}, 'on_lines': None}\n",
    "    'in_vehicle_time': {'perception_factor': 'us2'}\n",
    "    'in_vehicle_cost': {'penalty': '@sfare', 'perception_factor': 0.0}\n",
    "    'aux_transit_time': {'perception_factor': '@walkp'}\n",
    "    'aux_transit_cost': {'penalty': '@lfare', 'perception_factor': 0.0}\n",
    "    'connector_to_connector_path_prohibition': None\n",
    "    'od_results': {'total_impedance': 'mf83'}\n",
    "    'flow_distribution_between_lines': {'consider_total_impedance': True}\n",
    "    'save_strategies': True\n",
    "    'type': 'EXTENDED_TRANSIT_ASSIGNMENT'\n",
    "    'flow_distribution_at_origins': {'choices_at_origins': {'choice_points': 'ALL_ORIGINS', 'choice_set': 'ALL_CONNECTORS', 'logit_parameters': {...}}, 'fixed_proportions_on...connectors': None}\n",
    "    'performance_settings': {'number_of_processors': 8}\n",
    "    'flow_distribution_at_regular_nodes_with_aux_transit_choices': {'choices_at_regular_nodes': {'choice_points': 'ui1', 'aux_transit_choice_set': 'ALL_POSSIBLE_LINKS', 'logit_parameters': {...}}}\n",
    "    'journey_levels': [{'description': 'Walking', 'destinations_reachable': False, 'transition_rules': [...], 'boarding_time': None, 'boarding_cost': None, 'waiting_time': None}, {'description': 'Transit', 'destinations_reachable': True, 'transition_rules': [...], 'boarding_time': None, 'boarding_cost': None, 'waiting_time': None}]\n",
    "    len(): 18\n"
   ]
  }
 ],
 "metadata": {
  "interpreter": {
   "hash": "669f5abd92f1a410df15b0643b9f42360e277a412fc08ae8bc7d7911cf7e8f3d"
  },
  "kernelspec": {
   "display_name": "Python 3.10.2 64-bit",
   "language": "python",
   "name": "python3"
  },
  "language_info": {
   "codemirror_mode": {
    "name": "ipython",
    "version": 3
   },
   "file_extension": ".py",
   "mimetype": "text/x-python",
   "name": "python",
   "nbconvert_exporter": "python",
   "pygments_lexer": "ipython3",
   "version": "3.10.2"
  },
  "orig_nbformat": 4
 },
 "nbformat": 4,
 "nbformat_minor": 2
}

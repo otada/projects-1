{
 "cells": [
  {
   "cell_type": "code",
   "execution_count": 10,
   "metadata": {},
   "outputs": [
    {
     "name": "stdout",
     "output_type": "stream",
     "text": [
      "False\n",
      "True\n",
      "True\n",
      "False\n",
      "False\n",
      "True\n"
     ]
    }
   ],
   "source": [
    "print(not('False'))\n",
    "print(not(0))\n",
    "print(not(''))\n",
    "print(not(' '))\n",
    "print(not([\"Python\"]))\n",
    "print(not([]))\n"
   ]
  },
  {
   "cell_type": "code",
   "execution_count": 11,
   "metadata": {},
   "outputs": [
    {
     "name": "stdout",
     "output_type": "stream",
     "text": [
      "Negation  of String :  False\n",
      "Negation of list :  False\n",
      "Negation of dictionary :  False\n",
      "Negation of Empty String :  True\n",
      "Negation of Empty List :  True\n",
      "Negation of Empty Dictionary :  True\n"
     ]
    }
   ],
   "source": [
    "\n",
    "# Python code to demonstrate\n",
    "# 'not' keyword\n",
    " \n",
    "# Function showing working of not keyword\n",
    "def geek_Func():\n",
    "   \n",
    "    # Not with String boolean value\n",
    "    geek_Str = \"geek\"\n",
    "    print('Negation  of String : ', not geek_Str)\n",
    " \n",
    "    # Not with list boolean value\n",
    "    geek_List = [1, 2, 3, 4]\n",
    "    print('Negation of list : ', not geek_List)\n",
    " \n",
    "    # Not with dictionary\n",
    "    geek_Dict = {\"geek\": \"sam\", \"collage\": \"Mit\"}\n",
    "    print('Negation of dictionary : ', not geek_Dict)\n",
    " \n",
    "    # Not with Empty String\n",
    "    geek_EDict = \"\"\n",
    "    print('Negation of Empty String : ', not geek_EDict)\n",
    " \n",
    "    # Not with Empty list\n",
    "    geek_EList = []\n",
    "    print('Negation of Empty List : ', not geek_EList)\n",
    " \n",
    "    # Not with Empty dictionary\n",
    "    geek_EStr = {}\n",
    "    print('Negation of Empty Dictionary : ', not geek_EStr)\n",
    " \n",
    "geek_Func()"
   ]
  },
  {
   "cell_type": "code",
   "execution_count": 39,
   "metadata": {},
   "outputs": [
    {
     "name": "stdout",
     "output_type": "stream",
     "text": [
      "0\n",
      "17\n",
      "4\n",
      "4\n",
      "\n",
      "32\n"
     ]
    }
   ],
   "source": [
    "print(2^2)\n",
    "print(1|16)\n",
    "print(2**2)\n",
    "print(4&4)\n",
    "print()\n",
    "print(2<<4)\n"
   ]
  },
  {
   "cell_type": "code",
   "execution_count": 40,
   "metadata": {},
   "outputs": [
    {
     "name": "stdout",
     "output_type": "stream",
     "text": [
      "a & b = 0\n",
      "a | b = 14\n",
      "~a = -11\n",
      "a ^ b = 14\n"
     ]
    }
   ],
   "source": [
    "\n",
    "# Python program to show\n",
    "# bitwise operators\n",
    "#NOTE: study more bitwise operation\n",
    " \n",
    "a = 10\n",
    "b = 4\n",
    " \n",
    "# Print bitwise AND operation\n",
    "print(\"a & b =\", a & b)\n",
    " \n",
    "# Print bitwise OR operation\n",
    "print(\"a | b =\", a | b)\n",
    " \n",
    "# Print bitwise NOT operation\n",
    "print(\"~a =\", ~a)\n",
    " \n",
    "# print bitwise XOR operation\n",
    "print(\"a ^ b =\", a ^ b)"
   ]
  },
  {
   "cell_type": "code",
   "execution_count": 42,
   "metadata": {},
   "outputs": [
    {
     "name": "stdout",
     "output_type": "stream",
     "text": [
      "a >> 1 = 5\n",
      "b >> 1 = -5\n",
      "a << 1 = 10\n",
      "b << 1 = -20\n"
     ]
    }
   ],
   "source": [
    "# Python program to show\n",
    "# shift operators\n",
    "\n",
    "a = 10\n",
    "b = -10\n",
    "\n",
    "# print bitwise right shift operator\n",
    "print(\"a >> 1 =\", a >> 1)\n",
    "print(\"b >> 1 =\", b >> 1)\n",
    "\n",
    "a = 5\n",
    "b = -10\n",
    "\n",
    "# print bitwise left shift operator\n",
    "print(\"a << 1 =\", a << 1)\n",
    "print(\"b << 1 =\", b << 1)\n"
   ]
  },
  {
   "cell_type": "code",
   "execution_count": 45,
   "metadata": {},
   "outputs": [
    {
     "name": "stdout",
     "output_type": "stream",
     "text": [
      "['a', 'b', 'c', 1, 2, 3]\n"
     ]
    }
   ],
   "source": [
    "list1 = [\"a\", \"b\" , \"c\"]\n",
    "list2 = [1, 2, 3]\n",
    "\n",
    "list3 = list1 + list2\n",
    "print(list3)"
   ]
  },
  {
   "cell_type": "code",
   "execution_count": 5,
   "metadata": {},
   "outputs": [
    {
     "name": "stdout",
     "output_type": "stream",
     "text": [
      "initial 1st dictionary Counter({'akshat': 15, 'manjeet': 10, 'akash': 5, 'nikhil': 1})\n",
      "initial 2nd dictionary Counter({'m': 15, 'akash': 7, 'akshat': 5})\n",
      "final dictionary Counter({'akshat': 20, 'm': 15, 'akash': 12, 'manjeet': 10, 'nikhil': 1})\n",
      "tonight {'akash': 12, 'm': 15, 'akshat': 20, 'nikhil': 1, 'manjeet': 10}\n"
     ]
    }
   ],
   "source": [
    "# Python code to demonstrate combining \n",
    "# two dictionaries having same key\n",
    "  \n",
    "from collections import Counter\n",
    "  \n",
    "# initialising dictionaries\n",
    "ini_dictionary1 = Counter({'nikhil': 1, 'akash' : 5,\n",
    "                     'manjeet' : 10, 'akshat' : 15})\n",
    "ini_dictionary2 = Counter({'akash' : 7, 'akshat' : 5,\n",
    "                                          'm' : 15})\n",
    "  \n",
    "# printing initial dictionaries\n",
    "print (\"initial 1st dictionary\", str(ini_dictionary1))\n",
    "print (\"initial 2nd dictionary\", str(ini_dictionary2))\n",
    "  \n",
    "# combining dictionaries\n",
    "# using Counter\n",
    "final_dictionary = ini_dictionary1 + ini_dictionary2\n",
    "  \n",
    "# printing final result\n",
    "print (\"final dictionary\", str(final_dictionary))\n",
    "\n",
    "dict_ini = dict((k, ini_dictionary1[k] + ini_dictionary2[k]) for k in set(ini_dictionary1) | set(ini_dictionary2))\n",
    "\n",
    "print(\"tonight\", dict_ini)"
   ]
  },
  {
   "cell_type": "code",
   "execution_count": 15,
   "metadata": {},
   "outputs": [
    {
     "name": "stdout",
     "output_type": "stream",
     "text": [
      "Creating instance\n"
     ]
    },
    {
     "ename": "TypeError",
     "evalue": "super(type, obj): obj must be an instance or subtype of type",
     "output_type": "error",
     "traceback": [
      "\u001b[1;31m---------------------------------------------------------------------------\u001b[0m",
      "\u001b[1;31mTypeError\u001b[0m                                 Traceback (most recent call last)",
      "Input \u001b[1;32mIn [15]\u001b[0m, in \u001b[0;36m<module>\u001b[1;34m\u001b[0m\n\u001b[0;32m     12\u001b[0m         \u001b[38;5;28mprint\u001b[39m(\u001b[38;5;124m\"\u001b[39m\u001b[38;5;124mCreating instance\u001b[39m\u001b[38;5;124m\"\u001b[39m)\n\u001b[0;32m     13\u001b[0m         \u001b[38;5;28;01mreturn\u001b[39;00m \u001b[38;5;28msuper\u001b[39m(A, \u001b[38;5;28mcls\u001b[39m)\u001b[38;5;241m.\u001b[39m\u001b[38;5;21m__new__\u001b[39m(\u001b[38;5;28mcls\u001b[39m)\n\u001b[1;32m---> 14\u001b[0m obj \u001b[38;5;241m=\u001b[39m \u001b[43mTest\u001b[49m\u001b[43m(\u001b[49m\u001b[43m)\u001b[49m\n\u001b[0;32m     15\u001b[0m \u001b[38;5;28mprint\u001b[39m(obj)\n",
      "Input \u001b[1;32mIn [15]\u001b[0m, in \u001b[0;36mTest.__new__\u001b[1;34m(cls)\u001b[0m\n\u001b[0;32m     11\u001b[0m \u001b[38;5;28;01mdef\u001b[39;00m \u001b[38;5;21m__new__\u001b[39m(\u001b[38;5;28mcls\u001b[39m):\n\u001b[0;32m     12\u001b[0m     \u001b[38;5;28mprint\u001b[39m(\u001b[38;5;124m\"\u001b[39m\u001b[38;5;124mCreating instance\u001b[39m\u001b[38;5;124m\"\u001b[39m)\n\u001b[1;32m---> 13\u001b[0m     \u001b[38;5;28;01mreturn\u001b[39;00m \u001b[38;5;28;43msuper\u001b[39;49m\u001b[43m(\u001b[49m\u001b[43mA\u001b[49m\u001b[43m,\u001b[49m\u001b[43m \u001b[49m\u001b[38;5;28;43mcls\u001b[39;49m\u001b[43m)\u001b[49m\u001b[38;5;241m.\u001b[39m\u001b[38;5;21m__new__\u001b[39m(\u001b[38;5;28mcls\u001b[39m)\n",
      "\u001b[1;31mTypeError\u001b[0m: super(type, obj): obj must be an instance or subtype of type"
     ]
    }
   ],
   "source": [
    "# NOTE: See -> https://stackoverflow.com/questions/2491819/how-to-return-a-value-from-init-in-python\n",
    "# __init__ method cannot return anything other than None.\n",
    "# __new__ dunder methodcan be used instead.\n",
    "# dunder methods are usually used for operator overloading\n",
    "class Test:\n",
    "    def __init__(self, var):\n",
    "        \n",
    "        print(\"Init is called\")\n",
    "        \n",
    "        return var\n",
    "    def __new__(cls):\n",
    "        print(\"Creating instance\")\n",
    "        return 20\n",
    "obj = Test()\n",
    "print(obj)"
   ]
  },
  {
   "cell_type": "code",
   "execution_count": 16,
   "metadata": {},
   "outputs": [
    {
     "name": "stdout",
     "output_type": "stream",
     "text": [
      "Creating instance\n",
      "Init is called\n"
     ]
    },
    {
     "data": {
      "text/plain": [
       "<__main__.A at 0x20221e65670>"
      ]
     },
     "execution_count": 16,
     "metadata": {},
     "output_type": "execute_result"
    }
   ],
   "source": [
    "# Python program to\n",
    "# demonstrate __new__\n",
    "\n",
    "# don't forget the object specified as base\n",
    "class A(object):\n",
    "\tdef __new__(cls):\n",
    "\t\tprint(\"Creating instance\")\n",
    "\t\treturn super(A, cls).__new__(cls)\n",
    "\n",
    "\tdef __init__(self):\n",
    "\t\tprint(\"Init is called\")\n",
    "\n",
    "A()\n"
   ]
  },
  {
   "cell_type": "code",
   "execution_count": 22,
   "metadata": {},
   "outputs": [
    {
     "name": "stdout",
     "output_type": "stream",
     "text": [
      "Creating instance\n",
      "None\n"
     ]
    }
   ],
   "source": [
    "\n",
    "# Python program to\n",
    "# demonstrate __new__\n",
    "  \n",
    "class A(object):\n",
    "    def __new__(cls):\n",
    "        print(\"Creating instance\")\n",
    "  \n",
    "    # It is not called\n",
    "    def __init__(self):\n",
    "        print(\"Init is called\")\n",
    "  \n",
    "print(A())"
   ]
  },
  {
   "cell_type": "code",
   "execution_count": 29,
   "metadata": {},
   "outputs": [
    {
     "name": "stdout",
     "output_type": "stream",
     "text": [
      "File not found\n"
     ]
    }
   ],
   "source": [
    "try:\n",
    "    open('sys.txt', 'r')\n",
    "except OSError:\n",
    "    print(\"File not found\")\n",
    "except:\n",
    "    print(\"File not opened\")"
   ]
  },
  {
   "cell_type": "code",
   "execution_count": 34,
   "metadata": {},
   "outputs": [
    {
     "ename": "FileNotFoundError",
     "evalue": "[Errno 2] No such file or directory: 'D:\\\\New\\\\sys.txt'",
     "output_type": "error",
     "traceback": [
      "\u001b[1;31m---------------------------------------------------------------------------\u001b[0m",
      "\u001b[1;31mFileNotFoundError\u001b[0m                         Traceback (most recent call last)",
      "Input \u001b[1;32mIn [34]\u001b[0m, in \u001b[0;36m<module>\u001b[1;34m\u001b[0m\n\u001b[1;32m----> 1\u001b[0m file \u001b[38;5;241m=\u001b[39m \u001b[38;5;28;43mopen\u001b[39;49m\u001b[43m(\u001b[49m\u001b[38;5;124;43m'\u001b[39;49m\u001b[38;5;124;43mD:\u001b[39;49m\u001b[38;5;130;43;01m\\\\\u001b[39;49;00m\u001b[38;5;124;43mNew\u001b[39;49m\u001b[38;5;124;43m\\\u001b[39;49m\u001b[38;5;124;43msys.txt\u001b[39;49m\u001b[38;5;124;43m'\u001b[39;49m\u001b[43m,\u001b[49m\u001b[43m \u001b[49m\u001b[38;5;124;43m'\u001b[39;49m\u001b[38;5;124;43mw\u001b[39;49m\u001b[38;5;124;43m'\u001b[39;49m\u001b[43m)\u001b[49m\n\u001b[0;32m      3\u001b[0m \u001b[38;5;28mprint\u001b[39m(file)\n",
      "\u001b[1;31mFileNotFoundError\u001b[0m: [Errno 2] No such file or directory: 'D:\\\\New\\\\sys.txt'"
     ]
    }
   ],
   "source": [
    "file = open('D:\\\\New\\sys.txt', 'w')\n",
    "\n",
    "print(file)"
   ]
  },
  {
   "cell_type": "code",
   "execution_count": 40,
   "metadata": {},
   "outputs": [
    {
     "name": "stdout",
     "output_type": "stream",
     "text": [
      "1.23e-07\n"
     ]
    }
   ],
   "source": [
    "print(1.23E-7)"
   ]
  },
  {
   "cell_type": "code",
   "execution_count": 65,
   "metadata": {},
   "outputs": [
    {
     "name": "stdout",
     "output_type": "stream",
     "text": [
      "100 inside loop\n",
      "inside loop\n",
      "inside loop\n",
      "Inside else\n",
      "0 ,  10\n",
      "1 ,  10\n",
      "2 ,  10\n",
      "3 ,  10\n",
      "4 ,  10\n",
      "5 ,  10\n",
      "6 ,  10\n",
      "7 ,  10\n",
      "8 ,  10\n",
      "I am breaking\n",
      "9 ,  10\n",
      "The end is near repent\n"
     ]
    }
   ],
   "source": [
    "# NOTE: else can be writen with while loop\n",
    "# Same as with for loops, while loops can also have an optional else block.\n",
    "i = 5\n",
    "while i < 4:\n",
    "    print(i, end=\"-\")\n",
    "    i += 1.5\n",
    "    if ((i<4) == False):\n",
    "        break\n",
    "else:\n",
    "    print(100, end=\" \")\n",
    "    \n",
    "\n",
    "counter = 0 \n",
    "while counter < 3:\n",
    "    print(\"inside loop\")\n",
    "    counter = counter + 1\n",
    "    \n",
    "else:\n",
    "    print(\"Inside else\")\n",
    "    \n",
    "var = [1,2,3,4,5,6,7,8,9,10]\n",
    "for i in range(0, len(var)):\n",
    "    print(i, \", \",len(var))\n",
    "    if (i==8):\n",
    "        print(\"I am breaking\")\n",
    "        continue\n",
    "else:\n",
    "    print(\"The end is near repent\")"
   ]
  },
  {
   "cell_type": "code",
   "execution_count": null,
   "metadata": {},
   "outputs": [],
   "source": []
  }
 ],
 "metadata": {
  "interpreter": {
   "hash": "6f7c4d44365b28014734406e4d617c1e1f76ea196def854c7b951a230f6e24f1"
  },
  "kernelspec": {
   "display_name": "Python 3.9.5 64-bit",
   "language": "python",
   "name": "python3"
  },
  "language_info": {
   "codemirror_mode": {
    "name": "ipython",
    "version": 3
   },
   "file_extension": ".py",
   "mimetype": "text/x-python",
   "name": "python",
   "nbconvert_exporter": "python",
   "pygments_lexer": "ipython3",
   "version": "3.9.5"
  },
  "orig_nbformat": 4
 },
 "nbformat": 4,
 "nbformat_minor": 2
}

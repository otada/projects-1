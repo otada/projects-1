{
 "cells": [
  {
   "cell_type": "code",
   "execution_count": 2,
   "metadata": {},
   "outputs": [
    {
     "name": "stdout",
     "output_type": "stream",
     "text": [
      "False\n",
      "True\n",
      "True\n",
      "False\n",
      "False\n",
      "True\n"
     ]
    }
   ],
   "source": [
    "print(not('False'))\n",
    "print(not(0))\n",
    "print(not(''))\n",
    "print(not(' '))\n",
    "print(not([\"Python\"]))\n",
    "print(not([]))\n"
   ]
  },
  {
   "cell_type": "code",
   "execution_count": 3,
   "metadata": {},
   "outputs": [
    {
     "name": "stdout",
     "output_type": "stream",
     "text": [
      "Negation  of String :  False\n",
      "Negation of list :  False\n",
      "Negation of dictionary :  False\n",
      "Negation of Empty String :  True\n",
      "Negation of Empty List :  True\n",
      "Negation of Empty Dictionary :  True\n"
     ]
    }
   ],
   "source": [
    "\n",
    "# Python code to demonstrate\n",
    "# 'not' keyword\n",
    " \n",
    "# Function showing working of not keyword\n",
    "def geek_Func():\n",
    "   \n",
    "    # Not with String boolean value\n",
    "    geek_Str = \"geek\"\n",
    "    print('Negation  of String : ', not geek_Str)\n",
    " \n",
    "    # Not with list boolean value\n",
    "    geek_List = [1, 2, 3, 4]\n",
    "    print('Negation of list : ', not geek_List)\n",
    " \n",
    "    # Not with dictionary\n",
    "    geek_Dict = {\"geek\": \"sam\", \"collage\": \"Mit\"}\n",
    "    print('Negation of dictionary : ', not geek_Dict)\n",
    " \n",
    "    # Not with Empty String\n",
    "    geek_EDict = \"\"\n",
    "    print('Negation of Empty String : ', not geek_EDict)\n",
    " \n",
    "    # Not with Empty list\n",
    "    geek_EList = []\n",
    "    print('Negation of Empty List : ', not geek_EList)\n",
    " \n",
    "    # Not with Empty dictionary\n",
    "    geek_EStr = {}\n",
    "    print('Negation of Empty Dictionary : ', not geek_EStr)\n",
    " \n",
    "geek_Func()"
   ]
  },
  {
   "cell_type": "code",
   "execution_count": 4,
   "metadata": {},
   "outputs": [
    {
     "name": "stdout",
     "output_type": "stream",
     "text": [
      "0\n",
      "17\n",
      "4\n",
      "4\n",
      "\n",
      "32\n"
     ]
    }
   ],
   "source": [
    "print(2^2)\n",
    "print(1|16)\n",
    "print(2**2)\n",
    "print(4&4)\n",
    "print()\n",
    "print(2<<4)\n"
   ]
  },
  {
   "cell_type": "code",
   "execution_count": 5,
   "metadata": {},
   "outputs": [
    {
     "name": "stdout",
     "output_type": "stream",
     "text": [
      "a & b = 0\n",
      "a | b = 14\n",
      "~a = -11\n",
      "a ^ b = 14\n"
     ]
    }
   ],
   "source": [
    "\n",
    "# Python program to show\n",
    "# bitwise operators\n",
    "#NOTE: study more bitwise operation\n",
    " \n",
    "a = 10\n",
    "b = 4\n",
    " \n",
    "# Print bitwise AND operation\n",
    "print(\"a & b =\", a & b)\n",
    " \n",
    "# Print bitwise OR operation\n",
    "print(\"a | b =\", a | b)\n",
    " \n",
    "# Print bitwise NOT operation\n",
    "print(\"~a =\", ~a)\n",
    " \n",
    "# print bitwise XOR operation\n",
    "print(\"a ^ b =\", a ^ b)"
   ]
  },
  {
   "cell_type": "code",
   "execution_count": 6,
   "metadata": {},
   "outputs": [
    {
     "name": "stdout",
     "output_type": "stream",
     "text": [
      "a >> 1 = 5\n",
      "b >> 1 = -5\n",
      "a << 1 = 10\n",
      "b << 1 = -20\n"
     ]
    }
   ],
   "source": [
    "# Python program to show\n",
    "# shift operators\n",
    "\n",
    "a = 10\n",
    "b = -10\n",
    "\n",
    "# print bitwise right shift operator\n",
    "print(\"a >> 1 =\", a >> 1)\n",
    "print(\"b >> 1 =\", b >> 1)\n",
    "\n",
    "a = 5\n",
    "b = -10\n",
    "\n",
    "# print bitwise left shift operator\n",
    "print(\"a << 1 =\", a << 1)\n",
    "print(\"b << 1 =\", b << 1)\n"
   ]
  },
  {
   "cell_type": "code",
   "execution_count": 7,
   "metadata": {},
   "outputs": [
    {
     "name": "stdout",
     "output_type": "stream",
     "text": [
      "['a', 'b', 'c', 1, 2, 3]\n"
     ]
    }
   ],
   "source": [
    "list1 = [\"a\", \"b\" , \"c\"]\n",
    "list2 = [1, 2, 3]\n",
    "\n",
    "list3 = list1 + list2\n",
    "print(list3)"
   ]
  },
  {
   "cell_type": "code",
   "execution_count": 8,
   "metadata": {},
   "outputs": [
    {
     "name": "stdout",
     "output_type": "stream",
     "text": [
      "initial 1st dictionary Counter({'akshat': 15, 'manjeet': 10, 'akash': 5, 'nikhil': 1})\n",
      "initial 2nd dictionary Counter({'m': 15, 'akash': 7, 'akshat': 5})\n",
      "final dictionary Counter({'akshat': 20, 'm': 15, 'akash': 12, 'manjeet': 10, 'nikhil': 1})\n",
      "tonight {'manjeet': 10, 'm': 15, 'akshat': 20, 'nikhil': 1, 'akash': 12}\n"
     ]
    }
   ],
   "source": [
    "# Python code to demonstrate combining \n",
    "# two dictionaries having same key\n",
    "  \n",
    "from collections import Counter\n",
    "  \n",
    "# initialising dictionaries\n",
    "ini_dictionary1 = Counter({'nikhil': 1, 'akash' : 5,\n",
    "                     'manjeet' : 10, 'akshat' : 15})\n",
    "ini_dictionary2 = Counter({'akash' : 7, 'akshat' : 5,\n",
    "                                          'm' : 15})\n",
    "  \n",
    "# printing initial dictionaries\n",
    "print (\"initial 1st dictionary\", str(ini_dictionary1))\n",
    "print (\"initial 2nd dictionary\", str(ini_dictionary2))\n",
    "  \n",
    "# combining dictionaries\n",
    "# using Counter\n",
    "final_dictionary = ini_dictionary1 + ini_dictionary2\n",
    "  \n",
    "# printing final result\n",
    "print (\"final dictionary\", str(final_dictionary))\n",
    "\n",
    "dict_ini = dict((k, ini_dictionary1[k] + ini_dictionary2[k]) for k in set(ini_dictionary1) | set(ini_dictionary2))\n",
    "\n",
    "print(\"tonight\", dict_ini)"
   ]
  },
  {
   "cell_type": "code",
   "execution_count": 9,
   "metadata": {},
   "outputs": [
    {
     "name": "stdout",
     "output_type": "stream",
     "text": [
      "Creating instance\n",
      "20\n"
     ]
    }
   ],
   "source": [
    "# NOTE: See -> https://stackoverflow.com/questions/2491819/how-to-return-a-value-from-init-in-python\n",
    "# __init__ method cannot return anything other than None.\n",
    "# __new__ dunder methodcan be used instead.\n",
    "# dunder methods are usually used for operator overloading\n",
    "class Test:\n",
    "    def __init__(self, var):\n",
    "        \n",
    "        print(\"Init is called\")\n",
    "        \n",
    "        return var\n",
    "    def __new__(cls):\n",
    "        print(\"Creating instance\")\n",
    "        return 20\n",
    "obj = Test()\n",
    "print(obj)"
   ]
  },
  {
   "cell_type": "code",
   "execution_count": 10,
   "metadata": {},
   "outputs": [
    {
     "name": "stdout",
     "output_type": "stream",
     "text": [
      "Creating instance\n",
      "Init is called\n"
     ]
    },
    {
     "data": {
      "text/plain": [
       "<__main__.A at 0x208626fd840>"
      ]
     },
     "execution_count": 10,
     "metadata": {},
     "output_type": "execute_result"
    }
   ],
   "source": [
    "# Python program to\n",
    "# demonstrate __new__\n",
    "\n",
    "# don't forget the object specified as base\n",
    "class A(object):\n",
    "\tdef __new__(cls):\n",
    "\t\tprint(\"Creating instance\")\n",
    "\t\treturn super(A, cls).__new__(cls)\n",
    "\n",
    "\tdef __init__(self):\n",
    "\t\tprint(\"Init is called\")\n",
    "\n",
    "A()\n"
   ]
  },
  {
   "cell_type": "code",
   "execution_count": 11,
   "metadata": {},
   "outputs": [
    {
     "name": "stdout",
     "output_type": "stream",
     "text": [
      "Creating instance\n",
      "None\n"
     ]
    }
   ],
   "source": [
    "\n",
    "# Python program to\n",
    "# demonstrate __new__\n",
    "  \n",
    "class A(object):\n",
    "    def __new__(cls):\n",
    "        print(\"Creating instance\")\n",
    "  \n",
    "    # It is not called\n",
    "    def __init__(self):\n",
    "        print(\"Init is called\")\n",
    "  \n",
    "print(A())"
   ]
  },
  {
   "cell_type": "code",
   "execution_count": 12,
   "metadata": {},
   "outputs": [
    {
     "name": "stdout",
     "output_type": "stream",
     "text": [
      "File not found\n"
     ]
    }
   ],
   "source": [
    "try:\n",
    "    open('sys.txt', 'r')\n",
    "except OSError:\n",
    "    print(\"File not found\")\n",
    "except:\n",
    "    print(\"File not opened\")"
   ]
  },
  {
   "cell_type": "code",
   "execution_count": 13,
   "metadata": {},
   "outputs": [
    {
     "ename": "FileNotFoundError",
     "evalue": "[Errno 2] No such file or directory: 'D:\\\\New\\\\sys.txt'",
     "output_type": "error",
     "traceback": [
      "\u001b[1;31m---------------------------------------------------------------------------\u001b[0m",
      "\u001b[1;31mFileNotFoundError\u001b[0m                         Traceback (most recent call last)",
      "Input \u001b[1;32mIn [13]\u001b[0m, in \u001b[0;36m<module>\u001b[1;34m\u001b[0m\n\u001b[1;32m----> 1\u001b[0m file \u001b[38;5;241m=\u001b[39m \u001b[38;5;28;43mopen\u001b[39;49m\u001b[43m(\u001b[49m\u001b[38;5;124;43m'\u001b[39;49m\u001b[38;5;124;43mD:\u001b[39;49m\u001b[38;5;130;43;01m\\\\\u001b[39;49;00m\u001b[38;5;124;43mNew\u001b[39;49m\u001b[38;5;124;43m\\\u001b[39;49m\u001b[38;5;124;43msys.txt\u001b[39;49m\u001b[38;5;124;43m'\u001b[39;49m\u001b[43m,\u001b[49m\u001b[43m \u001b[49m\u001b[38;5;124;43m'\u001b[39;49m\u001b[38;5;124;43mw\u001b[39;49m\u001b[38;5;124;43m'\u001b[39;49m\u001b[43m)\u001b[49m\n\u001b[0;32m      3\u001b[0m \u001b[38;5;28mprint\u001b[39m(file)\n",
      "\u001b[1;31mFileNotFoundError\u001b[0m: [Errno 2] No such file or directory: 'D:\\\\New\\\\sys.txt'"
     ]
    }
   ],
   "source": [
    "file = open('D:\\\\New\\sys.txt', 'w')\n",
    "\n",
    "print(file)"
   ]
  },
  {
   "cell_type": "code",
   "execution_count": null,
   "metadata": {},
   "outputs": [
    {
     "name": "stdout",
     "output_type": "stream",
     "text": [
      "1.23e-07\n"
     ]
    }
   ],
   "source": [
    "print(1.23E-7)"
   ]
  },
  {
   "cell_type": "code",
   "execution_count": null,
   "metadata": {},
   "outputs": [
    {
     "name": "stdout",
     "output_type": "stream",
     "text": [
      "100 inside loop\n",
      "inside loop\n",
      "inside loop\n",
      "Inside else\n",
      "0 ,  10\n",
      "1 ,  10\n",
      "2 ,  10\n",
      "3 ,  10\n",
      "4 ,  10\n",
      "5 ,  10\n",
      "6 ,  10\n",
      "7 ,  10\n",
      "8 ,  10\n",
      "I am breaking\n",
      "9 ,  10\n",
      "The end is near repent\n"
     ]
    }
   ],
   "source": [
    "# NOTE: else can be writen with while loop\n",
    "# Same as with for loops, while loops can also have an optional else block.\n",
    "i = 5\n",
    "while i < 4:\n",
    "    print(i, end=\"-\")\n",
    "    i += 1.5\n",
    "    if ((i<4) == False):\n",
    "        break\n",
    "else:\n",
    "    print(100, end=\" \")\n",
    "    \n",
    "\n",
    "counter = 0 \n",
    "while counter < 3:\n",
    "    print(\"inside loop\")\n",
    "    counter = counter + 1\n",
    "    \n",
    "else:\n",
    "    print(\"Inside else\")\n",
    "    \n",
    "var = [1,2,3,4,5,6,7,8,9,10]\n",
    "for i in range(0, len(var)):\n",
    "    print(i, \", \",len(var))\n",
    "    if (i==8):\n",
    "        print(\"I am breaking\")\n",
    "        continue\n",
    "else:\n",
    "    print(\"The end is near repent\")"
   ]
  },
  {
   "cell_type": "code",
   "execution_count": 25,
   "metadata": {},
   "outputs": [
    {
     "name": "stdout",
     "output_type": "stream",
     "text": [
      "27\n",
      "17\n",
      "34\n",
      "22\n"
     ]
    }
   ],
   "source": [
    "# NOTE: All objects share class or static variables. \n",
    "# An instance or non-static variables are different for \n",
    "# different objects (every object has a copy)\n",
    "\n",
    "\n",
    "# All variables which are assigned a value in the class declaration are class variables. \n",
    "# And variables that are assigned values inside methods are instance variables.\n",
    "class Calculate:\n",
    "    var1 = 20\n",
    "    def __init__(self, var1):\n",
    "        self.var1 = var1\n",
    "        self.var1 = self.var1 + 7\n",
    "        Calculate.var1 = Calculate.var1 + 7\n",
    "    \n",
    "    def Print(self):\n",
    "        print(Calculate.var1)\n",
    "        print(self.var1)\n",
    "\n",
    "Calculate(10).Print()\n",
    "Calculate(15).Print()"
   ]
  },
  {
   "cell_type": "code",
   "execution_count": 27,
   "metadata": {},
   "outputs": [
    {
     "name": "stdout",
     "output_type": "stream",
     "text": [
      "cse\n",
      "cse\n",
      "Geek\n",
      "Nerd\n",
      "1\n",
      "2\n",
      "cse\n",
      "ece\n",
      "cse\n",
      "ece\n",
      "mech\n"
     ]
    }
   ],
   "source": [
    "# Python program to show that the variables with a value\n",
    "# assigned in class declaration, are class variables\n",
    "\n",
    "# Class for Computer Science Student\n",
    "class CSStudent:\n",
    "\tstream = 'cse'\t\t\t\t # Class Variable\n",
    "\tdef __init__(self,name,roll):\n",
    "\t\tself.name = name\t\t # Instance Variable\n",
    "\t\tself.roll = roll\t\t # Instance Variable\n",
    "\n",
    "# Objects of CSStudent class\n",
    "a = CSStudent('Geek', 1)\n",
    "b = CSStudent('Nerd', 2)\n",
    "\n",
    "print(a.stream) # prints \"cse\"\n",
    "print(b.stream) # prints \"cse\"\n",
    "print(a.name) # prints \"Geek\"\n",
    "print(b.name) # prints \"Nerd\"\n",
    "print(a.roll) # prints \"1\"\n",
    "print(b.roll) # prints \"2\"\n",
    "\n",
    "# Class variables can be accessed using class\n",
    "# name also\n",
    "print(CSStudent.stream) # prints \"cse\"\n",
    "\n",
    "# Now if we change the stream for just a it won't be changed for b\n",
    "a.stream = 'ece'\n",
    "print(a.stream) # prints 'ece'\n",
    "print(b.stream) # prints 'cse'\n",
    "\n",
    "# NOTE: To change the stream for all instances of the class we can change it\n",
    "# directly from the class\n",
    "CSStudent.stream = 'mech'\n",
    "\n",
    "print(a.stream) # prints 'ece'\n",
    "print(b.stream) # prints 'mech'\n"
   ]
  },
  {
   "cell_type": "code",
   "execution_count": 32,
   "metadata": {},
   "outputs": [
    {
     "name": "stdout",
     "output_type": "stream",
     "text": [
      "tuple[3]\n"
     ]
    }
   ],
   "source": [
    "print(tuple[3])"
   ]
  },
  {
   "cell_type": "code",
   "execution_count": 35,
   "metadata": {},
   "outputs": [
    {
     "ename": "SyntaxError",
     "evalue": "name 'x' is parameter and global (1710832462.py, line 6)",
     "output_type": "error",
     "traceback": [
      "\u001b[1;36m  Input \u001b[1;32mIn [35]\u001b[1;36m\u001b[0m\n\u001b[1;33m    global x\u001b[0m\n\u001b[1;37m    ^\u001b[0m\n\u001b[1;31mSyntaxError\u001b[0m\u001b[1;31m:\u001b[0m name 'x' is parameter and global\n"
     ]
    }
   ],
   "source": [
    "# NOTE: global vs local variable\n",
    "x = 45\n",
    "y = 25\n",
    "\n",
    "def Sum(x):\n",
    "    global x\n",
    "    print(\"Sum inside Sum() :\", x+y)\n",
    "\n",
    "Sum(25)\n",
    "print(\"Sum outside Sum() :\", x+y)"
   ]
  },
  {
   "cell_type": "code",
   "execution_count": 36,
   "metadata": {},
   "outputs": [
    {
     "ename": "FileNotFoundError",
     "evalue": "[Errno 2] No such file or directory: 'sys.txt'",
     "output_type": "error",
     "traceback": [
      "\u001b[1;31m---------------------------------------------------------------------------\u001b[0m",
      "\u001b[1;31mFileNotFoundError\u001b[0m                         Traceback (most recent call last)",
      "Input \u001b[1;32mIn [36]\u001b[0m, in \u001b[0;36m<module>\u001b[1;34m\u001b[0m\n\u001b[0;32m      1\u001b[0m \u001b[38;5;66;03m# reads and prints 500 characters\u001b[39;00m\n\u001b[1;32m----> 3\u001b[0m file \u001b[38;5;241m=\u001b[39m \u001b[38;5;28;43mopen\u001b[39;49m\u001b[43m(\u001b[49m\u001b[38;5;124;43m'\u001b[39;49m\u001b[38;5;124;43msys.txt\u001b[39;49m\u001b[38;5;124;43m'\u001b[39;49m\u001b[43m,\u001b[49m\u001b[43m \u001b[49m\u001b[38;5;124;43m'\u001b[39;49m\u001b[38;5;124;43mr\u001b[39;49m\u001b[38;5;124;43m'\u001b[39;49m\u001b[43m)\u001b[49m\n\u001b[0;32m      4\u001b[0m \u001b[38;5;28mprint\u001b[39m(file\u001b[38;5;241m.\u001b[39mread(\u001b[38;5;241m500\u001b[39m))\n\u001b[0;32m      5\u001b[0m file\u001b[38;5;241m.\u001b[39mclose()\n",
      "\u001b[1;31mFileNotFoundError\u001b[0m: [Errno 2] No such file or directory: 'sys.txt'"
     ]
    }
   ],
   "source": [
    "# reads and prints 500 characters\n",
    "\n",
    "file = open('sys.txt', 'r')\n",
    "print(file.read(500))\n",
    "file.close()"
   ]
  },
  {
   "cell_type": "code",
   "execution_count": 45,
   "metadata": {},
   "outputs": [
    {
     "name": "stdout",
     "output_type": "stream",
     "text": [
      "😂😘😁💕😂😘😁💕😂😘😁💕\n",
      "1.0\n",
      "3\n"
     ]
    }
   ],
   "source": [
    "a = '😂'\n",
    "b = '😘'\n",
    "c = '😁'\n",
    "d = '💕'\n",
    "\n",
    "# TODO: https://www.w3schools.com/python/python_operators.asp\n",
    "# A float in any place within an evaluation makes every thing a float\n",
    "# only . can be used eg. 4. == 4.0\n",
    "print((a + b + c + d)*3)\n",
    "\n",
    "print(1**2**2.)\n",
    "print(7//2)"
   ]
  },
  {
   "cell_type": "code",
   "execution_count": 62,
   "metadata": {},
   "outputs": [
    {
     "name": "stdout",
     "output_type": "stream",
     "text": [
      "31\n",
      "00031\n",
      "10\n"
     ]
    }
   ],
   "source": [
    "# NOTE: %o is string formatting. You use %o for octal numbers (i.e base 8 numbers):\n",
    "print(\"%.2o\"% (25))\n",
    "print(\"%.5o\"% (25))\n",
    "# leading zeros in decimal integer literals are not permitted; \n",
    "# use an 0o prefix for octal integers\n",
    "print(\"%o\" % 8)"
   ]
  },
  {
   "cell_type": "code",
   "execution_count": 73,
   "metadata": {},
   "outputs": [
    {
     "name": "stdout",
     "output_type": "stream",
     "text": [
      "8.579223E+10\n"
     ]
    }
   ],
   "source": [
    "print(\"%10E\" % (85792229130)) "
   ]
  },
  {
   "cell_type": "code",
   "execution_count": 81,
   "metadata": {},
   "outputs": [
    {
     "name": "stdout",
     "output_type": "stream",
     "text": [
      "-6\n"
     ]
    }
   ],
   "source": [
    "# NOTE: A unary operator is an operator which works on a single operand. \n",
    "# Python support unary minus operator(-). When an operand is preceded by a minus sign, \n",
    "# then the unary operator negates its value.\n",
    "\n",
    "x = 2+3\n",
    "\n",
    "print(~x)"
   ]
  },
  {
   "cell_type": "code",
   "execution_count": 86,
   "metadata": {},
   "outputs": [
    {
     "name": "stdout",
     "output_type": "stream",
     "text": [
      "[5, 15, '5', '15', 'Python']\n",
      "[{5: 5, 15: '15', '5': 5, '15': 100}]\n"
     ]
    }
   ],
   "source": [
    "D = {5:5, 15:'15', '5':5, '15':25}\n",
    "\n",
    "D[str(15)] = 100\n",
    "# converts it to a list here\n",
    "L = list(D)\n",
    "# adds the dict into the list here\n",
    "M = [D]\n",
    "\n",
    "L.append(\"Python\")\n",
    "print(L)\n",
    "print(M)"
   ]
  },
  {
   "cell_type": "code",
   "execution_count": 1,
   "metadata": {},
   "outputs": [
    {
     "name": "stdout",
     "output_type": "stream",
     "text": [
      "1\n",
      "17\n",
      "3\n",
      "9\n",
      "11\n"
     ]
    }
   ],
   "source": [
    "# 0x is used for literal numbers. \"\\x\" is used inside strings to represent a character\n",
    "print(0x3 & 0x9)\n",
    "print(0x11)\n",
    "print(0x3)\n",
    "print(0x9)\n",
    "print(0x3 | 0x9)"
   ]
  },
  {
   "cell_type": "code",
   "execution_count": 21,
   "metadata": {},
   "outputs": [
    {
     "name": "stdout",
     "output_type": "stream",
     "text": [
      "42\n",
      "0x2a\n",
      "0x2\n",
      "00a2x0\n",
      "\n",
      "2a\n",
      "000000002a\n",
      "00000emeka\n",
      "002a\n"
     ]
    }
   ],
   "source": [
    "#TODO: how to calculate hexadecimal and other binary like operations\n",
    "x = hex(42)\n",
    "print(0x2a)\n",
    "\n",
    "print(x)\n",
    "# 0x2a\n",
    "print(x[:-1])\n",
    "print(x[::-1].zfill(6))\n",
    "print()\n",
    "print(hex(42)[2:])\n",
    "print(hex(42)[2:].zfill(10))\n",
    "\n",
    "print(\"emeka\".zfill(10))\n",
    "\n",
    "print(hex(42).replace('x', '0'))"
   ]
  },
  {
   "cell_type": "code",
   "execution_count": 25,
   "metadata": {},
   "outputs": [
    {
     "ename": "SyntaxError",
     "evalue": "invalid syntax (56541720.py, line 12)",
     "output_type": "error",
     "traceback": [
      "\u001b[1;36m  Input \u001b[1;32mIn [25]\u001b[1;36m\u001b[0m\n\u001b[1;33m    except:\u001b[0m\n\u001b[1;37m    ^\u001b[0m\n\u001b[1;31mSyntaxError\u001b[0m\u001b[1;31m:\u001b[0m invalid syntax\n"
     ]
    }
   ],
   "source": [
    "#NOTE: In python, you can also use the else clause on the try-except \n",
    "# block which must be present after all the except clauses.\n",
    "\n",
    "try:\n",
    "    print(30/0)\n",
    "except ZeroDivisionError:\n",
    "    print(\"zero division error\")\n",
    "else:\n",
    "    print(\"nothing went wrong\")\n",
    "finally:\n",
    "    print(\"hello me i must execute\")\n",
    "except:\n",
    "    print(\"something went wrong\")"
   ]
  },
  {
   "cell_type": "code",
   "execution_count": 28,
   "metadata": {},
   "outputs": [
    {
     "name": "stdout",
     "output_type": "stream",
     "text": [
      "An exception\n"
     ]
    },
    {
     "ename": "NameError",
     "evalue": "Hi there",
     "output_type": "error",
     "traceback": [
      "\u001b[1;31m---------------------------------------------------------------------------\u001b[0m",
      "\u001b[1;31mNameError\u001b[0m                                 Traceback (most recent call last)",
      "Input \u001b[1;32mIn [28]\u001b[0m, in \u001b[0;36m<module>\u001b[1;34m\u001b[0m\n\u001b[0;32m      1\u001b[0m \u001b[38;5;66;03m#NOTE: The raise statement allows the programmer to force a specific exception to occur. \u001b[39;00m\n\u001b[0;32m      2\u001b[0m \u001b[38;5;66;03m# The sole argument in raise indicates the exception to be raised. \u001b[39;00m\n\u001b[0;32m      3\u001b[0m \u001b[38;5;66;03m# This must be either an exception instance or an exception class \u001b[39;00m\n\u001b[0;32m      4\u001b[0m \u001b[38;5;66;03m# (a class that derives from Exception).\u001b[39;00m\n\u001b[0;32m      5\u001b[0m \n\u001b[0;32m      6\u001b[0m \u001b[38;5;66;03m# Program to depict Raising Exception\u001b[39;00m\n\u001b[0;32m      7\u001b[0m \u001b[38;5;28;01mtry\u001b[39;00m:\n\u001b[1;32m----> 8\u001b[0m     \u001b[38;5;28;01mraise\u001b[39;00m \u001b[38;5;167;01mNameError\u001b[39;00m(\u001b[38;5;124m\"\u001b[39m\u001b[38;5;124mHi there\u001b[39m\u001b[38;5;124m\"\u001b[39m) \u001b[38;5;66;03m# Raise Error\u001b[39;00m\n\u001b[0;32m      9\u001b[0m \u001b[38;5;28;01mexcept\u001b[39;00m \u001b[38;5;167;01mNameError\u001b[39;00m:\n\u001b[0;32m     10\u001b[0m \t\u001b[38;5;28mprint\u001b[39m (\u001b[38;5;124m\"\u001b[39m\u001b[38;5;124mAn exception\u001b[39m\u001b[38;5;124m\"\u001b[39m)\n",
      "\u001b[1;31mNameError\u001b[0m: Hi there"
     ]
    }
   ],
   "source": [
    "#NOTE: The raise statement allows the programmer to force a specific exception to occur. \n",
    "# The sole argument in raise indicates the exception to be raised. \n",
    "# This must be either an exception instance or an exception class \n",
    "# (a class that derives from Exception).\n",
    "\n",
    "# Program to depict Raising Exception\n",
    "try:\n",
    "    raise NameError(\"Hi there\") # Raise Error\n",
    "except NameError:\n",
    "\tprint (\"An exception\")\n",
    "\traise # To determine whether the exception was raised or not\n"
   ]
  },
  {
   "cell_type": "code",
   "execution_count": 29,
   "metadata": {},
   "outputs": [
    {
     "data": {
      "text/plain": [
       "'\\nOperator                                            |   Description\\n()\\t                                                |   Parentheses (grouping)\\nf(args...)\\t                                        |   Function call\\nx[index:index]\\t                                    |   Slicing\\nx[index]\\t                                        |   Subscription\\nx.attribute\\t                                        |   Attribute reference\\n**\\t                                                |   Exponentiation\\n~x\\t                                                |   Bitwise not\\n+x, -x\\t                                            |   Positive, negative\\n*, /, %\\t                                            |   Multiplication, division, remainder\\n+, -\\t                                            |   Addition, subtraction\\n<<, >>\\t                                            |   Bitwise shifts\\n&\\t                                                |   Bitwise AND\\n^\\t                                                |   Bitwise XOR\\n|\\t                                                |   Bitwise OR\\nin, not in, is, is not, <, <=,  >,  >=, <>, !=, ==\\t|   Comparisons, membership, identity\\nnot x\\t                                            |   Boolean NOT\\nand\\t                                                |   Boolean AND\\nor\\t                                                |   Boolean OR\\nlambda\\t                                            |   Lambda expression\\n'"
      ]
     },
     "execution_count": 29,
     "metadata": {},
     "output_type": "execute_result"
    }
   ],
   "source": [
    "#TODO: Read https://realpython.com/python-operators-expressions/\n",
    "\n",
    "\"\"\"\n",
    "Operator                                            |   Description\n",
    "()\t                                                |   Parentheses (grouping)\n",
    "f(args...)\t                                        |   Function call\n",
    "x[index:index]\t                                    |   Slicing\n",
    "x[index]\t                                        |   Subscription\n",
    "x.attribute\t                                        |   Attribute reference\n",
    "**\t                                                |   Exponentiation\n",
    "~x\t                                                |   Bitwise not\n",
    "+x, -x\t                                            |   Positive, negative\n",
    "*, /, %\t                                            |   Multiplication, division, remainder\n",
    "+, -\t                                            |   Addition, subtraction\n",
    "<<, >>\t                                            |   Bitwise shifts\n",
    "&\t                                                |   Bitwise AND\n",
    "^\t                                                |   Bitwise XOR\n",
    "|\t                                                |   Bitwise OR\n",
    "in, not in, is, is not, <, <=,  >,  >=, <>, !=, ==\t|   Comparisons, membership, identity\n",
    "not x\t                                            |   Boolean NOT\n",
    "and\t                                                |   Boolean AND\n",
    "or\t                                                |   Boolean OR\n",
    "lambda\t                                            |   Lambda expression\n",
    "\"\"\""
   ]
  },
  {
   "cell_type": "code",
   "execution_count": 36,
   "metadata": {},
   "outputs": [
    {
     "name": "stdout",
     "output_type": "stream",
     "text": [
      "java java java java "
     ]
    }
   ],
   "source": [
    "i = \"\"\n",
    "for i in \"    \":\n",
    "    print(\"java\", end=i)"
   ]
  },
  {
   "cell_type": "code",
   "execution_count": 41,
   "metadata": {},
   "outputs": [
    {
     "ename": "FileNotFoundError",
     "evalue": "[WinError 3] The system cannot find the path specified: 'D:/Pycharm projects/GeeksforGeeks/Authors/Nikhil/file1.txt'",
     "output_type": "error",
     "traceback": [
      "\u001b[1;31m---------------------------------------------------------------------------\u001b[0m",
      "\u001b[1;31mFileNotFoundError\u001b[0m                         Traceback (most recent call last)",
      "Input \u001b[1;32mIn [41]\u001b[0m, in \u001b[0;36m<module>\u001b[1;34m\u001b[0m\n\u001b[0;32m     13\u001b[0m path \u001b[38;5;241m=\u001b[39m os\u001b[38;5;241m.\u001b[39mpath\u001b[38;5;241m.\u001b[39mjoin(location, file)\n\u001b[0;32m     15\u001b[0m \u001b[38;5;66;03m# Remove the file\u001b[39;00m\n\u001b[0;32m     16\u001b[0m \u001b[38;5;66;03m# 'file.txt'\u001b[39;00m\n\u001b[1;32m---> 17\u001b[0m \u001b[43mos\u001b[49m\u001b[38;5;241;43m.\u001b[39;49m\u001b[43mremove\u001b[49m\u001b[43m(\u001b[49m\u001b[43mpath\u001b[49m\u001b[43m)\u001b[49m\n",
      "\u001b[1;31mFileNotFoundError\u001b[0m: [WinError 3] The system cannot find the path specified: 'D:/Pycharm projects/GeeksforGeeks/Authors/Nikhil/file1.txt'"
     ]
    }
   ],
   "source": [
    "# Python program to explain os.remove() method\n",
    "\t\n",
    "# importing os module\n",
    "import os\n",
    "\t\n",
    "# File name\n",
    "file = 'file1.txt'\n",
    "\t\n",
    "# File location\n",
    "location = \"D:/Pycharm projects/GeeksforGeeks/Authors/Nikhil/\"\n",
    "\t\n",
    "# Path\n",
    "path = os.path.join(location, file)\n",
    "\t\n",
    "# Remove the file\n",
    "# 'file.txt'\n",
    "os.remove(path)"
   ]
  },
  {
   "cell_type": "code",
   "execution_count": 43,
   "metadata": {},
   "outputs": [
    {
     "ename": "FileNotFoundError",
     "evalue": "[WinError 3] The system cannot find the path specified: 'D:/Pycharm projects/Geeks'",
     "output_type": "error",
     "traceback": [
      "\u001b[1;31m---------------------------------------------------------------------------\u001b[0m",
      "\u001b[1;31mFileNotFoundError\u001b[0m                         Traceback (most recent call last)",
      "Input \u001b[1;32mIn [43]\u001b[0m, in \u001b[0;36m<module>\u001b[1;34m\u001b[0m\n\u001b[0;32m     13\u001b[0m path \u001b[38;5;241m=\u001b[39m os\u001b[38;5;241m.\u001b[39mpath\u001b[38;5;241m.\u001b[39mjoin(parent, directory)\n\u001b[0;32m     15\u001b[0m \u001b[38;5;66;03m# Remove the Directory\u001b[39;00m\n\u001b[0;32m     16\u001b[0m \u001b[38;5;66;03m# \"Geeks\"\u001b[39;00m\n\u001b[1;32m---> 17\u001b[0m \u001b[43mos\u001b[49m\u001b[38;5;241;43m.\u001b[39;49m\u001b[43mrmdir\u001b[49m\u001b[43m(\u001b[49m\u001b[43mpath\u001b[49m\u001b[43m)\u001b[49m\n\u001b[0;32m     20\u001b[0m \u001b[38;5;28;01mtry\u001b[39;00m:\n\u001b[0;32m     21\u001b[0m     os\u001b[38;5;241m.\u001b[39mrmdir(path)\n",
      "\u001b[1;31mFileNotFoundError\u001b[0m: [WinError 3] The system cannot find the path specified: 'D:/Pycharm projects/Geeks'"
     ]
    }
   ],
   "source": [
    "# Python program to explain os.rmdir() method\n",
    "\t\n",
    "# importing os module\n",
    "import os\n",
    "\t\n",
    "# Directory name\n",
    "directory = \"Geeks\"\n",
    "\t\n",
    "# Parent Directory\n",
    "parent = \"D:/Pycharm projects/\"\n",
    "\t\n",
    "# Path\n",
    "path = os.path.join(parent, directory)\n",
    "\t\n",
    "# Remove the Directory\n",
    "# \"Geeks\"\n",
    "os.rmdir(path)\n",
    "\n",
    "\n",
    "try:\n",
    "    os.rmdir(path)\n",
    "    print(\"Directory '% s' has been removed successfully\" % directory)\n",
    "except OSError as error:\n",
    "    print(error)\n",
    "    print(\"Directory '% s' can not be removed\" % directory)\n",
    "  \n",
    "# NOTE: if the specified path\n",
    "# is not an empty directory \n",
    "# then permission error will \n",
    "# be raised \n",
    "  \n",
    "# similarly if specified path \n",
    "# is invalid or is not a  \n",
    "# directory then corresponding \n",
    "# OSError will be raised "
   ]
  },
  {
   "cell_type": "code",
   "execution_count": 121,
   "metadata": {},
   "outputs": [
    {
     "name": "stdout",
     "output_type": "stream",
     "text": [
      "20\n",
      "20\n",
      "20\n",
      "{'var1': 20, '_var1': 20, '_Class__var1': 20}\n"
     ]
    }
   ],
   "source": [
    "#NOTE: Double underscores are used for fully private variables. \n",
    "# If your class is intended to be subclassed, and you have \n",
    "# attributes that you do not want subclasses to use, consider \n",
    "# naming them with double leading underscores and no trailing underscores.\n",
    "class Class:\n",
    "    def __init__(self, var):\n",
    "        self.var1 = var\n",
    "        self._var1 = var\n",
    "        self.__var1 = var\n",
    "        print(self.__var1)\n",
    "obj = Class(20)\n",
    "# print(obj.__var1)\n",
    "print(obj._var1)\n",
    "print(obj.var1)\n",
    "print(obj.__dict__)\n"
   ]
  },
  {
   "cell_type": "code",
   "execution_count": 62,
   "metadata": {},
   "outputs": [
    {
     "name": "stdout",
     "output_type": "stream",
     "text": [
      "10\n",
      "20\n"
     ]
    }
   ],
   "source": [
    "class A(object):\n",
    "    def __init__(self):\n",
    "        self.num1 = 10\n",
    "    def show_num1(self):\n",
    "        print(self.num1)\n",
    "\n",
    "class B(A):\n",
    "    def __init__(self):\n",
    "        self.num2 = 20\n",
    "        # A.__init__(self)\n",
    "        super().__init__()\n",
    "        \n",
    "    def show_num2(self):\n",
    "        print(self.num2)\n",
    "        \n",
    "    \n",
    "obj = B()\n",
    "\n",
    "obj.show_num1()\n",
    "obj.show_num2()"
   ]
  },
  {
   "cell_type": "code",
   "execution_count": 64,
   "metadata": {},
   "outputs": [
    {
     "name": "stdout",
     "output_type": "stream",
     "text": [
      "Geek1 False\n",
      "Geek2 True\n"
     ]
    }
   ],
   "source": [
    "\n",
    "# A Python program to demonstrate inheritance \n",
    "   \n",
    "# Base or Super class. Note object in bracket.\n",
    "# (Generally, object is made ancestor of all classes)\n",
    "# In Python 3.x \"class Person\" is \n",
    "# equivalent to \"class Person(object)\"\n",
    "class Person(object):\n",
    "       \n",
    "    # Constructor\n",
    "    def __init__(self, name):\n",
    "        self.name = name\n",
    "   \n",
    "    # To get name\n",
    "    def getName(self):\n",
    "        return self.name\n",
    "   \n",
    "    # To check if this person is an employee\n",
    "    def isEmployee(self):\n",
    "        return False\n",
    "   \n",
    "   \n",
    "# Inherited or Subclass (Note Person in bracket)\n",
    "class Employee(Person):\n",
    "   \n",
    "    # Here we return true\n",
    "    def isEmployee(self):\n",
    "        return True\n",
    "   \n",
    "# Driver code\n",
    "emp = Person(\"Geek1\")  # An Object of Person\n",
    "print(emp.getName(), emp.isEmployee())\n",
    "   \n",
    "emp = Employee(\"Geek2\") # An Object of Employee\n",
    "print(emp.getName(), emp.isEmployee())"
   ]
  },
  {
   "cell_type": "code",
   "execution_count": 72,
   "metadata": {},
   "outputs": [
    {
     "name": "stdout",
     "output_type": "stream",
     "text": [
      "Child age : 40\n",
      "Parent age : 40\n"
     ]
    }
   ],
   "source": [
    "class Parent:\n",
    "    \n",
    "    def __init__(self, age):\n",
    "        self.age=age\n",
    "    def get_Parent_age(self):\n",
    "        return self.age\n",
    "    \n",
    "class Child(Parent):\n",
    "    def __init__(self, age1, age2):\n",
    "        self.age=age1\n",
    "        super().__init__(age2)\n",
    "    def get_Child_age(self):\n",
    "        return self.age\n",
    "\n",
    "son = Child(20, 40)\n",
    "\n",
    "print(\"Child age :\", son.get_Child_age())\n",
    "print(\"Parent age :\", son.get_Parent_age())"
   ]
  },
  {
   "cell_type": "code",
   "execution_count": 75,
   "metadata": {},
   "outputs": [
    {
     "ename": "SyntaxError",
     "evalue": "unterminated string literal (detected at line 2) (73942089.py, line 2)",
     "output_type": "error",
     "traceback": [
      "\u001b[1;36m  Input \u001b[1;32mIn [75]\u001b[1;36m\u001b[0m\n\u001b[1;33m    print(\"Pytho\"n\")\u001b[0m\n\u001b[1;37m                  ^\u001b[0m\n\u001b[1;31mSyntaxError\u001b[0m\u001b[1;31m:\u001b[0m unterminated string literal (detected at line 2)\n"
     ]
    }
   ],
   "source": [
    "try:\n",
    "    print(\"Pytho\"n\")\n",
    "except:\n",
    "    print(\"Error is raised\")\n",
    "finally:\n",
    "    print(\"Code End\")"
   ]
  },
  {
   "cell_type": "code",
   "execution_count": 97,
   "metadata": {},
   "outputs": [
    {
     "name": "stdout",
     "output_type": "stream",
     "text": [
      "java, python, ruby\n",
      "7\n",
      "('ruby', 'python', 'java', 'languages', ' programming', ' are', 'java, python, ruby')\n"
     ]
    }
   ],
   "source": [
    "str = \", \".join([\"java\", \"python\", \"ruby\"])\n",
    "print(str)\n",
    "l = (str, \" are\", \" programming\", \"languages\", \"java\", \"python\", \"ruby\")\n",
    "print(len(l))\n",
    "print(l[::-1])"
   ]
  },
  {
   "cell_type": "code",
   "execution_count": 100,
   "metadata": {},
   "outputs": [
    {
     "name": "stdout",
     "output_type": "stream",
     "text": [
      "15\n",
      "52\n",
      "52\n",
      "50\n",
      "51\n"
     ]
    }
   ],
   "source": [
    "# for integers\n",
    "print(round(15))\n",
    "# The last decimal digit till which it is rounded is increased \n",
    "# by 1 when (ndigit+1)th digit is >=5, else it stays the same.\n",
    "# for floating point\n",
    "print(round(51.6))\n",
    "print(round(51.5))\n",
    "print(round(50.5))\n",
    "print(round(51.4))"
   ]
  },
  {
   "cell_type": "code",
   "execution_count": 108,
   "metadata": {},
   "outputs": [
    {
     "ename": "TypeError",
     "evalue": "can only concatenate tuple (not \"int\") to tuple",
     "output_type": "error",
     "traceback": [
      "\u001b[1;31m---------------------------------------------------------------------------\u001b[0m",
      "\u001b[1;31mTypeError\u001b[0m                                 Traceback (most recent call last)",
      "Input \u001b[1;32mIn [108]\u001b[0m, in \u001b[0;36m<module>\u001b[1;34m\u001b[0m\n\u001b[1;32m----> 1\u001b[0m b \u001b[38;5;241m=\u001b[39m (\u001b[38;5;241m2\u001b[39m\u001b[38;5;241m+\u001b[39m\u001b[38;5;241m3\u001b[39m,\u001b[38;5;241m4\u001b[39m)\u001b[38;5;241m*\u001b[39m\u001b[38;5;241m5\u001b[39m\u001b[38;5;241m+\u001b[39m\u001b[38;5;241m2\u001b[39m\u001b[38;5;241m*\u001b[39m\u001b[38;5;241m*\u001b[39m\u001b[38;5;241m2\u001b[39m\n\u001b[0;32m      2\u001b[0m \u001b[38;5;28mprint\u001b[39m(b)\n\u001b[0;32m      4\u001b[0m a \u001b[38;5;241m=\u001b[39m {\u001b[38;5;241m2\u001b[39m\u001b[38;5;241m+\u001b[39m\u001b[38;5;241m3\u001b[39m}\u001b[38;5;241m*\u001b[39m\u001b[38;5;241m5\u001b[39m\u001b[38;5;241m+\u001b[39m\u001b[38;5;241m2\u001b[39m\u001b[38;5;241m*\u001b[39m\u001b[38;5;241m*\u001b[39m\u001b[38;5;241m2\u001b[39m\n",
      "\u001b[1;31mTypeError\u001b[0m: can only concatenate tuple (not \"int\") to tuple"
     ]
    }
   ],
   "source": [
    "b = (2+3,4)*5+2**2\n",
    "print(b)\n",
    "\n",
    "a = {2+3}*5+2**2\n",
    "\n",
    "print(a)"
   ]
  },
  {
   "cell_type": "code",
   "execution_count": 124,
   "metadata": {},
   "outputs": [
    {
     "name": "stderr",
     "output_type": "stream",
     "text": [
      "Traceback (most recent call last):\n",
      "  File \"_pydevd_bundle/pydevd_cython.pyx\", line 1078, in _pydevd_bundle.pydevd_cython.PyDBFrame.trace_dispatch\n",
      "  File \"_pydevd_bundle/pydevd_cython.pyx\", line 297, in _pydevd_bundle.pydevd_cython.PyDBFrame.do_wait_suspend\n",
      "  File \"C:\\Users\\Williams\\AppData\\Local\\Packages\\PythonSoftwareFoundation.Python.3.10_qbz5n2kfra8p0\\LocalCache\\local-packages\\Python310\\site-packages\\debugpy\\_vendored\\pydevd\\pydevd.py\", line 1976, in do_wait_suspend\n",
      "    keep_suspended = self._do_wait_suspend(thread, frame, event, arg, suspend_type, from_this_thread, frames_tracker)\n",
      "  File \"C:\\Users\\Williams\\AppData\\Local\\Packages\\PythonSoftwareFoundation.Python.3.10_qbz5n2kfra8p0\\LocalCache\\local-packages\\Python310\\site-packages\\debugpy\\_vendored\\pydevd\\pydevd.py\", line 2011, in _do_wait_suspend\n",
      "    time.sleep(0.01)\n",
      "KeyboardInterrupt\n"
     ]
    },
    {
     "ename": "KeyboardInterrupt",
     "evalue": "",
     "output_type": "error",
     "traceback": [
      "\u001b[1;31m---------------------------------------------------------------------------\u001b[0m",
      "\u001b[1;31mKeyboardInterrupt\u001b[0m                         Traceback (most recent call last)",
      "Input \u001b[1;32mIn [124]\u001b[0m, in \u001b[0;36m<module>\u001b[1;34m\u001b[0m\n\u001b[0;32m      6\u001b[0m         B \u001b[38;5;241m=\u001b[39m b\n\u001b[0;32m      7\u001b[0m         \u001b[38;5;28mprint\u001b[39m(\u001b[38;5;28mself\u001b[39m\u001b[38;5;241m.\u001b[39mA \u001b[38;5;241m+\u001b[39m \u001b[38;5;28mself\u001b[39m\u001b[38;5;241m.\u001b[39mB\u001b[38;5;241m/\u001b[39m\u001b[38;5;241m2\u001b[39m \u001b[38;5;241m+\u001b[39m \u001b[38;5;241m1\u001b[39m)\n\u001b[1;32m----> 9\u001b[0m \u001b[43mCalculate\u001b[49m\u001b[43m(\u001b[49m\u001b[38;5;241;43m2\u001b[39;49m\u001b[43m,\u001b[49m\u001b[38;5;241;43m300\u001b[39;49m\u001b[43m)\u001b[49m\n\u001b[0;32m     11\u001b[0m cs \u001b[38;5;241m=\u001b[39m Calculate(\u001b[38;5;241m2\u001b[39m,\u001b[38;5;241m300\u001b[39m)\n\u001b[0;32m     12\u001b[0m \u001b[38;5;28mprint\u001b[39m(cs\u001b[38;5;241m.\u001b[39m\u001b[38;5;18m__dict__\u001b[39m)\n",
      "Input \u001b[1;32mIn [124]\u001b[0m, in \u001b[0;36mCalculate.__init__\u001b[1;34m(self, a, b)\u001b[0m\n\u001b[0;32m      5\u001b[0m A \u001b[38;5;241m=\u001b[39m a\n\u001b[0;32m      6\u001b[0m B \u001b[38;5;241m=\u001b[39m b\n\u001b[1;32m----> 7\u001b[0m \u001b[38;5;28;43mprint\u001b[39;49m(\u001b[38;5;28mself\u001b[39m\u001b[38;5;241m.\u001b[39mA \u001b[38;5;241m+\u001b[39m \u001b[38;5;28mself\u001b[39m\u001b[38;5;241m.\u001b[39mB\u001b[38;5;241m/\u001b[39m\u001b[38;5;241m2\u001b[39m \u001b[38;5;241m+\u001b[39m \u001b[38;5;241m1\u001b[39m)\n",
      "Input \u001b[1;32mIn [124]\u001b[0m, in \u001b[0;36mCalculate.__init__\u001b[1;34m(self, a, b)\u001b[0m\n\u001b[0;32m      5\u001b[0m A \u001b[38;5;241m=\u001b[39m a\n\u001b[0;32m      6\u001b[0m B \u001b[38;5;241m=\u001b[39m b\n\u001b[1;32m----> 7\u001b[0m \u001b[38;5;28;43mprint\u001b[39;49m(\u001b[38;5;28mself\u001b[39m\u001b[38;5;241m.\u001b[39mA \u001b[38;5;241m+\u001b[39m \u001b[38;5;28mself\u001b[39m\u001b[38;5;241m.\u001b[39mB\u001b[38;5;241m/\u001b[39m\u001b[38;5;241m2\u001b[39m \u001b[38;5;241m+\u001b[39m \u001b[38;5;241m1\u001b[39m)\n",
      "File \u001b[1;32m_pydevd_bundle/pydevd_cython.pyx:1363\u001b[0m, in \u001b[0;36m_pydevd_bundle.pydevd_cython.SafeCallWrapper.__call__\u001b[1;34m()\u001b[0m\n",
      "File \u001b[1;32m_pydevd_bundle/pydevd_cython.pyx:662\u001b[0m, in \u001b[0;36m_pydevd_bundle.pydevd_cython.PyDBFrame.trace_dispatch\u001b[1;34m()\u001b[0m\n",
      "File \u001b[1;32m_pydevd_bundle/pydevd_cython.pyx:1087\u001b[0m, in \u001b[0;36m_pydevd_bundle.pydevd_cython.PyDBFrame.trace_dispatch\u001b[1;34m()\u001b[0m\n",
      "File \u001b[1;32m_pydevd_bundle/pydevd_cython.pyx:1078\u001b[0m, in \u001b[0;36m_pydevd_bundle.pydevd_cython.PyDBFrame.trace_dispatch\u001b[1;34m()\u001b[0m\n",
      "File \u001b[1;32m_pydevd_bundle/pydevd_cython.pyx:297\u001b[0m, in \u001b[0;36m_pydevd_bundle.pydevd_cython.PyDBFrame.do_wait_suspend\u001b[1;34m()\u001b[0m\n",
      "File \u001b[1;32m~\\AppData\\Local\\Packages\\PythonSoftwareFoundation.Python.3.10_qbz5n2kfra8p0\\LocalCache\\local-packages\\Python310\\site-packages\\debugpy\\_vendored\\pydevd\\pydevd.py:1976\u001b[0m, in \u001b[0;36mPyDB.do_wait_suspend\u001b[1;34m(self, thread, frame, event, arg, exception_type)\u001b[0m\n\u001b[0;32m   1973\u001b[0m             from_this_thread\u001b[38;5;241m.\u001b[39mappend(frame_custom_thread_id)\n\u001b[0;32m   1975\u001b[0m     \u001b[38;5;28;01mwith\u001b[39;00m \u001b[38;5;28mself\u001b[39m\u001b[38;5;241m.\u001b[39m_threads_suspended_single_notification\u001b[38;5;241m.\u001b[39mnotify_thread_suspended(thread_id, stop_reason):\n\u001b[1;32m-> 1976\u001b[0m         keep_suspended \u001b[38;5;241m=\u001b[39m \u001b[38;5;28;43mself\u001b[39;49m\u001b[38;5;241;43m.\u001b[39;49m\u001b[43m_do_wait_suspend\u001b[49m\u001b[43m(\u001b[49m\u001b[43mthread\u001b[49m\u001b[43m,\u001b[49m\u001b[43m \u001b[49m\u001b[43mframe\u001b[49m\u001b[43m,\u001b[49m\u001b[43m \u001b[49m\u001b[43mevent\u001b[49m\u001b[43m,\u001b[49m\u001b[43m \u001b[49m\u001b[43marg\u001b[49m\u001b[43m,\u001b[49m\u001b[43m \u001b[49m\u001b[43msuspend_type\u001b[49m\u001b[43m,\u001b[49m\u001b[43m \u001b[49m\u001b[43mfrom_this_thread\u001b[49m\u001b[43m,\u001b[49m\u001b[43m \u001b[49m\u001b[43mframes_tracker\u001b[49m\u001b[43m)\u001b[49m\n\u001b[0;32m   1978\u001b[0m frames_list \u001b[38;5;241m=\u001b[39m \u001b[38;5;28;01mNone\u001b[39;00m\n\u001b[0;32m   1980\u001b[0m \u001b[38;5;28;01mif\u001b[39;00m keep_suspended:\n\u001b[0;32m   1981\u001b[0m     \u001b[38;5;66;03m# This means that we should pause again after a set next statement.\u001b[39;00m\n",
      "File \u001b[1;32m~\\AppData\\Local\\Packages\\PythonSoftwareFoundation.Python.3.10_qbz5n2kfra8p0\\LocalCache\\local-packages\\Python310\\site-packages\\debugpy\\_vendored\\pydevd\\pydevd.py:2011\u001b[0m, in \u001b[0;36mPyDB._do_wait_suspend\u001b[1;34m(self, thread, frame, event, arg, suspend_type, from_this_thread, frames_tracker)\u001b[0m\n\u001b[0;32m   2008\u001b[0m         \u001b[38;5;28mself\u001b[39m\u001b[38;5;241m.\u001b[39m_call_mpl_hook()\n\u001b[0;32m   2010\u001b[0m     \u001b[38;5;28mself\u001b[39m\u001b[38;5;241m.\u001b[39mprocess_internal_commands()\n\u001b[1;32m-> 2011\u001b[0m     \u001b[43mtime\u001b[49m\u001b[38;5;241;43m.\u001b[39;49m\u001b[43msleep\u001b[49m\u001b[43m(\u001b[49m\u001b[38;5;241;43m0.01\u001b[39;49m\u001b[43m)\u001b[49m\n\u001b[0;32m   2013\u001b[0m \u001b[38;5;28mself\u001b[39m\u001b[38;5;241m.\u001b[39mcancel_async_evaluation(get_current_thread_id(thread), \u001b[38;5;28mstr\u001b[39m(\u001b[38;5;28mid\u001b[39m(frame)))\n\u001b[0;32m   2015\u001b[0m \u001b[38;5;66;03m# process any stepping instructions\u001b[39;00m\n",
      "\u001b[1;31mKeyboardInterrupt\u001b[0m: "
     ]
    }
   ],
   "source": [
    "class Calculate:\n",
    "    A = 0\n",
    "    B = 20\n",
    "    def __init__(self, a, b):\n",
    "        A = a\n",
    "        B = b\n",
    "        print(self.A + self.B/2 + 1)\n",
    "\n",
    "Calculate(2,300)\n",
    "\n",
    "cs = Calculate(2,300)\n",
    "print(cs.__dict__)\n"
   ]
  }
 ],
 "metadata": {
  "interpreter": {
   "hash": "6f7c4d44365b28014734406e4d617c1e1f76ea196def854c7b951a230f6e24f1"
  },
  "kernelspec": {
   "display_name": "Python 3.9.5 64-bit",
   "language": "python",
   "name": "python3"
  },
  "language_info": {
   "codemirror_mode": {
    "name": "ipython",
    "version": 3
   },
   "file_extension": ".py",
   "mimetype": "text/x-python",
   "name": "python",
   "nbconvert_exporter": "python",
   "pygments_lexer": "ipython3",
   "version": "3.10.2"
  },
  "orig_nbformat": 4
 },
 "nbformat": 4,
 "nbformat_minor": 2
}

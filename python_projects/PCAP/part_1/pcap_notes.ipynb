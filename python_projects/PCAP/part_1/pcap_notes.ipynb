{
 "cells": [
  {
   "cell_type": "code",
   "execution_count": 2,
   "metadata": {},
   "outputs": [
    {
     "name": "stdout",
     "output_type": "stream",
     "text": [
      "False\n",
      "True\n",
      "True\n",
      "False\n",
      "False\n",
      "True\n"
     ]
    }
   ],
   "source": [
    "print(not('False'))\n",
    "print(not(0))\n",
    "print(not(''))\n",
    "print(not(' '))\n",
    "print(not([\"Python\"]))\n",
    "print(not([]))\n"
   ]
  },
  {
   "cell_type": "code",
   "execution_count": 3,
   "metadata": {},
   "outputs": [
    {
     "name": "stdout",
     "output_type": "stream",
     "text": [
      "Negation  of String :  False\n",
      "Negation of list :  False\n",
      "Negation of dictionary :  False\n",
      "Negation of Empty String :  True\n",
      "Negation of Empty List :  True\n",
      "Negation of Empty Dictionary :  True\n"
     ]
    }
   ],
   "source": [
    "\n",
    "# Python code to demonstrate\n",
    "# 'not' keyword\n",
    " \n",
    "# Function showing working of not keyword\n",
    "def geek_Func():\n",
    "   \n",
    "    # Not with String boolean value\n",
    "    geek_Str = \"geek\"\n",
    "    print('Negation  of String : ', not geek_Str)\n",
    " \n",
    "    # Not with list boolean value\n",
    "    geek_List = [1, 2, 3, 4]\n",
    "    print('Negation of list : ', not geek_List)\n",
    " \n",
    "    # Not with dictionary\n",
    "    geek_Dict = {\"geek\": \"sam\", \"collage\": \"Mit\"}\n",
    "    print('Negation of dictionary : ', not geek_Dict)\n",
    " \n",
    "    # Not with Empty String\n",
    "    geek_EDict = \"\"\n",
    "    print('Negation of Empty String : ', not geek_EDict)\n",
    " \n",
    "    # Not with Empty list\n",
    "    geek_EList = []\n",
    "    print('Negation of Empty List : ', not geek_EList)\n",
    " \n",
    "    # Not with Empty dictionary\n",
    "    geek_EStr = {}\n",
    "    print('Negation of Empty Dictionary : ', not geek_EStr)\n",
    " \n",
    "geek_Func()"
   ]
  },
  {
   "cell_type": "code",
   "execution_count": 4,
   "metadata": {},
   "outputs": [
    {
     "name": "stdout",
     "output_type": "stream",
     "text": [
      "0\n",
      "17\n",
      "4\n",
      "4\n",
      "\n",
      "32\n"
     ]
    }
   ],
   "source": [
    "print(2^2)\n",
    "print(1|16)\n",
    "print(2**2)\n",
    "print(4&4)\n",
    "print()\n",
    "print(2<<4)\n"
   ]
  },
  {
   "cell_type": "code",
   "execution_count": 5,
   "metadata": {},
   "outputs": [
    {
     "name": "stdout",
     "output_type": "stream",
     "text": [
      "a & b = 0\n",
      "a | b = 14\n",
      "~a = -11\n",
      "a ^ b = 14\n"
     ]
    }
   ],
   "source": [
    "\n",
    "# Python program to show\n",
    "# bitwise operators\n",
    "#NOTE: study more bitwise operation\n",
    " \n",
    "a = 10\n",
    "b = 4\n",
    " \n",
    "# Print bitwise AND operation\n",
    "print(\"a & b =\", a & b)\n",
    " \n",
    "# Print bitwise OR operation\n",
    "print(\"a | b =\", a | b)\n",
    " \n",
    "# Print bitwise NOT operation\n",
    "print(\"~a =\", ~a)\n",
    " \n",
    "# print bitwise XOR operation\n",
    "print(\"a ^ b =\", a ^ b)"
   ]
  },
  {
   "cell_type": "code",
   "execution_count": 6,
   "metadata": {},
   "outputs": [
    {
     "name": "stdout",
     "output_type": "stream",
     "text": [
      "a >> 1 = 5\n",
      "b >> 1 = -5\n",
      "a << 1 = 10\n",
      "b << 1 = -20\n"
     ]
    }
   ],
   "source": [
    "# Python program to show\n",
    "# shift operators\n",
    "\n",
    "a = 10\n",
    "b = -10\n",
    "\n",
    "# print bitwise right shift operator\n",
    "print(\"a >> 1 =\", a >> 1)\n",
    "print(\"b >> 1 =\", b >> 1)\n",
    "\n",
    "a = 5\n",
    "b = -10\n",
    "\n",
    "# print bitwise left shift operator\n",
    "print(\"a << 1 =\", a << 1)\n",
    "print(\"b << 1 =\", b << 1)\n"
   ]
  },
  {
   "cell_type": "code",
   "execution_count": 7,
   "metadata": {},
   "outputs": [
    {
     "name": "stdout",
     "output_type": "stream",
     "text": [
      "['a', 'b', 'c', 1, 2, 3]\n"
     ]
    }
   ],
   "source": [
    "list1 = [\"a\", \"b\" , \"c\"]\n",
    "list2 = [1, 2, 3]\n",
    "\n",
    "list3 = list1 + list2\n",
    "print(list3)"
   ]
  },
  {
   "cell_type": "code",
   "execution_count": 8,
   "metadata": {},
   "outputs": [
    {
     "name": "stdout",
     "output_type": "stream",
     "text": [
      "initial 1st dictionary Counter({'akshat': 15, 'manjeet': 10, 'akash': 5, 'nikhil': 1})\n",
      "initial 2nd dictionary Counter({'m': 15, 'akash': 7, 'akshat': 5})\n",
      "final dictionary Counter({'akshat': 20, 'm': 15, 'akash': 12, 'manjeet': 10, 'nikhil': 1})\n",
      "tonight {'manjeet': 10, 'm': 15, 'akshat': 20, 'nikhil': 1, 'akash': 12}\n"
     ]
    }
   ],
   "source": [
    "# Python code to demonstrate combining \n",
    "# two dictionaries having same key\n",
    "  \n",
    "from collections import Counter\n",
    "  \n",
    "# initialising dictionaries\n",
    "ini_dictionary1 = Counter({'nikhil': 1, 'akash' : 5,\n",
    "                     'manjeet' : 10, 'akshat' : 15})\n",
    "ini_dictionary2 = Counter({'akash' : 7, 'akshat' : 5,\n",
    "                                          'm' : 15})\n",
    "  \n",
    "# printing initial dictionaries\n",
    "print (\"initial 1st dictionary\", str(ini_dictionary1))\n",
    "print (\"initial 2nd dictionary\", str(ini_dictionary2))\n",
    "  \n",
    "# combining dictionaries\n",
    "# using Counter\n",
    "final_dictionary = ini_dictionary1 + ini_dictionary2\n",
    "  \n",
    "# printing final result\n",
    "print (\"final dictionary\", str(final_dictionary))\n",
    "\n",
    "dict_ini = dict((k, ini_dictionary1[k] + ini_dictionary2[k]) for k in set(ini_dictionary1) | set(ini_dictionary2))\n",
    "\n",
    "print(\"tonight\", dict_ini)"
   ]
  },
  {
   "cell_type": "code",
   "execution_count": 9,
   "metadata": {},
   "outputs": [
    {
     "name": "stdout",
     "output_type": "stream",
     "text": [
      "Creating instance\n",
      "20\n"
     ]
    }
   ],
   "source": [
    "# NOTE: See -> https://stackoverflow.com/questions/2491819/how-to-return-a-value-from-init-in-python\n",
    "# __init__ method cannot return anything other than None.\n",
    "# __new__ dunder methodcan be used instead.\n",
    "# dunder methods are usually used for operator overloading\n",
    "class Test:\n",
    "    def __init__(self, var):\n",
    "        \n",
    "        print(\"Init is called\")\n",
    "        \n",
    "        return var\n",
    "    def __new__(cls):\n",
    "        print(\"Creating instance\")\n",
    "        return 20\n",
    "obj = Test()\n",
    "print(obj)"
   ]
  },
  {
   "cell_type": "code",
   "execution_count": 10,
   "metadata": {},
   "outputs": [
    {
     "name": "stdout",
     "output_type": "stream",
     "text": [
      "Creating instance\n",
      "Init is called\n"
     ]
    },
    {
     "data": {
      "text/plain": [
       "<__main__.A at 0x208626fd840>"
      ]
     },
     "execution_count": 10,
     "metadata": {},
     "output_type": "execute_result"
    }
   ],
   "source": [
    "# Python program to\n",
    "# demonstrate __new__\n",
    "\n",
    "# don't forget the object specified as base\n",
    "class A(object):\n",
    "\tdef __new__(cls):\n",
    "\t\tprint(\"Creating instance\")\n",
    "\t\treturn super(A, cls).__new__(cls)\n",
    "\n",
    "\tdef __init__(self):\n",
    "\t\tprint(\"Init is called\")\n",
    "\n",
    "A()\n"
   ]
  },
  {
   "cell_type": "code",
   "execution_count": 11,
   "metadata": {},
   "outputs": [
    {
     "name": "stdout",
     "output_type": "stream",
     "text": [
      "Creating instance\n",
      "None\n"
     ]
    }
   ],
   "source": [
    "\n",
    "# Python program to\n",
    "# demonstrate __new__\n",
    "  \n",
    "class A(object):\n",
    "    def __new__(cls):\n",
    "        print(\"Creating instance\")\n",
    "  \n",
    "    # It is not called\n",
    "    def __init__(self):\n",
    "        print(\"Init is called\")\n",
    "  \n",
    "print(A())"
   ]
  },
  {
   "cell_type": "code",
   "execution_count": 12,
   "metadata": {},
   "outputs": [
    {
     "name": "stdout",
     "output_type": "stream",
     "text": [
      "File not found\n"
     ]
    }
   ],
   "source": [
    "try:\n",
    "    open('sys.txt', 'r')\n",
    "except OSError:\n",
    "    print(\"File not found\")\n",
    "except:\n",
    "    print(\"File not opened\")"
   ]
  },
  {
   "cell_type": "code",
   "execution_count": 13,
   "metadata": {},
   "outputs": [
    {
     "ename": "FileNotFoundError",
     "evalue": "[Errno 2] No such file or directory: 'D:\\\\New\\\\sys.txt'",
     "output_type": "error",
     "traceback": [
      "\u001b[1;31m---------------------------------------------------------------------------\u001b[0m",
      "\u001b[1;31mFileNotFoundError\u001b[0m                         Traceback (most recent call last)",
      "Input \u001b[1;32mIn [13]\u001b[0m, in \u001b[0;36m<module>\u001b[1;34m\u001b[0m\n\u001b[1;32m----> 1\u001b[0m file \u001b[38;5;241m=\u001b[39m \u001b[38;5;28;43mopen\u001b[39;49m\u001b[43m(\u001b[49m\u001b[38;5;124;43m'\u001b[39;49m\u001b[38;5;124;43mD:\u001b[39;49m\u001b[38;5;130;43;01m\\\\\u001b[39;49;00m\u001b[38;5;124;43mNew\u001b[39;49m\u001b[38;5;124;43m\\\u001b[39;49m\u001b[38;5;124;43msys.txt\u001b[39;49m\u001b[38;5;124;43m'\u001b[39;49m\u001b[43m,\u001b[49m\u001b[43m \u001b[49m\u001b[38;5;124;43m'\u001b[39;49m\u001b[38;5;124;43mw\u001b[39;49m\u001b[38;5;124;43m'\u001b[39;49m\u001b[43m)\u001b[49m\n\u001b[0;32m      3\u001b[0m \u001b[38;5;28mprint\u001b[39m(file)\n",
      "\u001b[1;31mFileNotFoundError\u001b[0m: [Errno 2] No such file or directory: 'D:\\\\New\\\\sys.txt'"
     ]
    }
   ],
   "source": [
    "file = open('D:\\\\New\\sys.txt', 'w')\n",
    "\n",
    "print(file)"
   ]
  },
  {
   "cell_type": "code",
   "execution_count": null,
   "metadata": {},
   "outputs": [
    {
     "name": "stdout",
     "output_type": "stream",
     "text": [
      "1.23e-07\n"
     ]
    }
   ],
   "source": [
    "print(1.23E-7)"
   ]
  },
  {
   "cell_type": "code",
   "execution_count": null,
   "metadata": {},
   "outputs": [
    {
     "name": "stdout",
     "output_type": "stream",
     "text": [
      "100 inside loop\n",
      "inside loop\n",
      "inside loop\n",
      "Inside else\n",
      "0 ,  10\n",
      "1 ,  10\n",
      "2 ,  10\n",
      "3 ,  10\n",
      "4 ,  10\n",
      "5 ,  10\n",
      "6 ,  10\n",
      "7 ,  10\n",
      "8 ,  10\n",
      "I am breaking\n",
      "9 ,  10\n",
      "The end is near repent\n"
     ]
    }
   ],
   "source": [
    "# NOTE: else can be writen with while loop\n",
    "# Same as with for loops, while loops can also have an optional else block.\n",
    "i = 5\n",
    "while i < 4:\n",
    "    print(i, end=\"-\")\n",
    "    i += 1.5\n",
    "    if ((i<4) == False):\n",
    "        break\n",
    "else:\n",
    "    print(100, end=\" \")\n",
    "    \n",
    "\n",
    "counter = 0 \n",
    "while counter < 3:\n",
    "    print(\"inside loop\")\n",
    "    counter = counter + 1\n",
    "    \n",
    "else:\n",
    "    print(\"Inside else\")\n",
    "    \n",
    "var = [1,2,3,4,5,6,7,8,9,10]\n",
    "for i in range(0, len(var)):\n",
    "    print(i, \", \",len(var))\n",
    "    if (i==8):\n",
    "        print(\"I am breaking\")\n",
    "        continue\n",
    "else:\n",
    "    print(\"The end is near repent\")"
   ]
  },
  {
   "cell_type": "code",
   "execution_count": 25,
   "metadata": {},
   "outputs": [
    {
     "name": "stdout",
     "output_type": "stream",
     "text": [
      "27\n",
      "17\n",
      "34\n",
      "22\n"
     ]
    }
   ],
   "source": [
    "# NOTE: All objects share class or static variables. \n",
    "# An instance or non-static variables are different for \n",
    "# different objects (every object has a copy)\n",
    "\n",
    "\n",
    "# All variables which are assigned a value in the class declaration are class variables. \n",
    "# And variables that are assigned values inside methods are instance variables.\n",
    "class Calculate:\n",
    "    var1 = 20\n",
    "    def __init__(self, var1):\n",
    "        self.var1 = var1\n",
    "        self.var1 = self.var1 + 7\n",
    "        Calculate.var1 = Calculate.var1 + 7\n",
    "    \n",
    "    def Print(self):\n",
    "        print(Calculate.var1)\n",
    "        print(self.var1)\n",
    "\n",
    "Calculate(10).Print()\n",
    "Calculate(15).Print()"
   ]
  },
  {
   "cell_type": "code",
   "execution_count": 27,
   "metadata": {},
   "outputs": [
    {
     "name": "stdout",
     "output_type": "stream",
     "text": [
      "cse\n",
      "cse\n",
      "Geek\n",
      "Nerd\n",
      "1\n",
      "2\n",
      "cse\n",
      "ece\n",
      "cse\n",
      "ece\n",
      "mech\n"
     ]
    }
   ],
   "source": [
    "# Python program to show that the variables with a value\n",
    "# assigned in class declaration, are class variables\n",
    "\n",
    "# Class for Computer Science Student\n",
    "class CSStudent:\n",
    "\tstream = 'cse'\t\t\t\t # Class Variable\n",
    "\tdef __init__(self,name,roll):\n",
    "\t\tself.name = name\t\t # Instance Variable\n",
    "\t\tself.roll = roll\t\t # Instance Variable\n",
    "\n",
    "# Objects of CSStudent class\n",
    "a = CSStudent('Geek', 1)\n",
    "b = CSStudent('Nerd', 2)\n",
    "\n",
    "print(a.stream) # prints \"cse\"\n",
    "print(b.stream) # prints \"cse\"\n",
    "print(a.name) # prints \"Geek\"\n",
    "print(b.name) # prints \"Nerd\"\n",
    "print(a.roll) # prints \"1\"\n",
    "print(b.roll) # prints \"2\"\n",
    "\n",
    "# Class variables can be accessed using class\n",
    "# name also\n",
    "print(CSStudent.stream) # prints \"cse\"\n",
    "\n",
    "# Now if we change the stream for just a it won't be changed for b\n",
    "a.stream = 'ece'\n",
    "print(a.stream) # prints 'ece'\n",
    "print(b.stream) # prints 'cse'\n",
    "\n",
    "# NOTE: To change the stream for all instances of the class we can change it\n",
    "# directly from the class\n",
    "CSStudent.stream = 'mech'\n",
    "\n",
    "print(a.stream) # prints 'ece'\n",
    "print(b.stream) # prints 'mech'\n"
   ]
  },
  {
   "cell_type": "code",
   "execution_count": 32,
   "metadata": {},
   "outputs": [
    {
     "name": "stdout",
     "output_type": "stream",
     "text": [
      "tuple[3]\n"
     ]
    }
   ],
   "source": [
    "print(tuple[3])"
   ]
  },
  {
   "cell_type": "code",
   "execution_count": 35,
   "metadata": {},
   "outputs": [
    {
     "ename": "SyntaxError",
     "evalue": "name 'x' is parameter and global (1710832462.py, line 6)",
     "output_type": "error",
     "traceback": [
      "\u001b[1;36m  Input \u001b[1;32mIn [35]\u001b[1;36m\u001b[0m\n\u001b[1;33m    global x\u001b[0m\n\u001b[1;37m    ^\u001b[0m\n\u001b[1;31mSyntaxError\u001b[0m\u001b[1;31m:\u001b[0m name 'x' is parameter and global\n"
     ]
    }
   ],
   "source": [
    "# NOTE: global vs local variable\n",
    "x = 45\n",
    "y = 25\n",
    "\n",
    "def Sum(x):\n",
    "    global x\n",
    "    print(\"Sum inside Sum() :\", x+y)\n",
    "\n",
    "Sum(25)\n",
    "print(\"Sum outside Sum() :\", x+y)"
   ]
  },
  {
   "cell_type": "code",
   "execution_count": 36,
   "metadata": {},
   "outputs": [
    {
     "ename": "FileNotFoundError",
     "evalue": "[Errno 2] No such file or directory: 'sys.txt'",
     "output_type": "error",
     "traceback": [
      "\u001b[1;31m---------------------------------------------------------------------------\u001b[0m",
      "\u001b[1;31mFileNotFoundError\u001b[0m                         Traceback (most recent call last)",
      "Input \u001b[1;32mIn [36]\u001b[0m, in \u001b[0;36m<module>\u001b[1;34m\u001b[0m\n\u001b[0;32m      1\u001b[0m \u001b[38;5;66;03m# reads and prints 500 characters\u001b[39;00m\n\u001b[1;32m----> 3\u001b[0m file \u001b[38;5;241m=\u001b[39m \u001b[38;5;28;43mopen\u001b[39;49m\u001b[43m(\u001b[49m\u001b[38;5;124;43m'\u001b[39;49m\u001b[38;5;124;43msys.txt\u001b[39;49m\u001b[38;5;124;43m'\u001b[39;49m\u001b[43m,\u001b[49m\u001b[43m \u001b[49m\u001b[38;5;124;43m'\u001b[39;49m\u001b[38;5;124;43mr\u001b[39;49m\u001b[38;5;124;43m'\u001b[39;49m\u001b[43m)\u001b[49m\n\u001b[0;32m      4\u001b[0m \u001b[38;5;28mprint\u001b[39m(file\u001b[38;5;241m.\u001b[39mread(\u001b[38;5;241m500\u001b[39m))\n\u001b[0;32m      5\u001b[0m file\u001b[38;5;241m.\u001b[39mclose()\n",
      "\u001b[1;31mFileNotFoundError\u001b[0m: [Errno 2] No such file or directory: 'sys.txt'"
     ]
    }
   ],
   "source": [
    "# reads and prints 500 characters\n",
    "\n",
    "file = open('sys.txt', 'r')\n",
    "print(file.read(500))\n",
    "file.close()"
   ]
  },
  {
   "cell_type": "code",
   "execution_count": 45,
   "metadata": {},
   "outputs": [
    {
     "name": "stdout",
     "output_type": "stream",
     "text": [
      "😂😘😁💕😂😘😁💕😂😘😁💕\n",
      "1.0\n",
      "3\n"
     ]
    }
   ],
   "source": [
    "a = '😂'\n",
    "b = '😘'\n",
    "c = '😁'\n",
    "d = '💕'\n",
    "\n",
    "# TODO: https://www.w3schools.com/python/python_operators.asp\n",
    "# A float in any place within an evaluation makes every thing a float\n",
    "# only . can be used eg. 4. == 4.0\n",
    "print((a + b + c + d)*3)\n",
    "\n",
    "print(1**2**2.)\n",
    "print(7//2)"
   ]
  },
  {
   "cell_type": "code",
   "execution_count": 62,
   "metadata": {},
   "outputs": [
    {
     "name": "stdout",
     "output_type": "stream",
     "text": [
      "31\n",
      "00031\n",
      "10\n"
     ]
    }
   ],
   "source": [
    "# NOTE: %o is string formatting. You use %o for octal numbers (i.e base 8 numbers):\n",
    "print(\"%.2o\"% (25))\n",
    "print(\"%.5o\"% (25))\n",
    "# leading zeros in decimal integer literals are not permitted; \n",
    "# use an 0o prefix for octal integers\n",
    "print(\"%o\" % 8)"
   ]
  },
  {
   "cell_type": "code",
   "execution_count": 73,
   "metadata": {},
   "outputs": [
    {
     "name": "stdout",
     "output_type": "stream",
     "text": [
      "8.579223E+10\n"
     ]
    }
   ],
   "source": [
    "print(\"%10E\" % (85792229130)) "
   ]
  },
  {
   "cell_type": "code",
   "execution_count": 81,
   "metadata": {},
   "outputs": [
    {
     "name": "stdout",
     "output_type": "stream",
     "text": [
      "-6\n"
     ]
    }
   ],
   "source": [
    "# NOTE: A unary operator is an operator which works on a single operand. \n",
    "# Python support unary minus operator(-). When an operand is preceded by a minus sign, \n",
    "# then the unary operator negates its value.\n",
    "\n",
    "x = 2+3\n",
    "\n",
    "print(~x)"
   ]
  },
  {
   "cell_type": "code",
   "execution_count": 86,
   "metadata": {},
   "outputs": [
    {
     "name": "stdout",
     "output_type": "stream",
     "text": [
      "[5, 15, '5', '15', 'Python']\n",
      "[{5: 5, 15: '15', '5': 5, '15': 100}]\n"
     ]
    }
   ],
   "source": [
    "D = {5:5, 15:'15', '5':5, '15':25}\n",
    "\n",
    "D[str(15)] = 100\n",
    "# converts it to a list here\n",
    "L = list(D)\n",
    "# adds the dict into the list here\n",
    "M = [D]\n",
    "\n",
    "L.append(\"Python\")\n",
    "print(L)\n",
    "print(M)"
   ]
  },
  {
   "cell_type": "code",
   "execution_count": 92,
   "metadata": {},
   "outputs": [
    {
     "name": "stdout",
     "output_type": "stream",
     "text": [
      "1\n",
      "65\n",
      "3\n",
      "9\n"
     ]
    }
   ],
   "source": [
    "# 0x is used for literal numbers. \"\\x\" is used inside strings to represent a character\n",
    "print(0x3 & 0x9)\n",
    "print(0x41)\n",
    "print(0x3)\n",
    "print(0x9)"
   ]
  },
  {
   "cell_type": "code",
   "execution_count": 100,
   "metadata": {},
   "outputs": [
    {
     "name": "stdout",
     "output_type": "stream",
     "text": [
      "I Love Ugonma oji-otada\n"
     ]
    }
   ],
   "source": []
  }
 ],
 "metadata": {
  "interpreter": {
   "hash": "6f7c4d44365b28014734406e4d617c1e1f76ea196def854c7b951a230f6e24f1"
  },
  "kernelspec": {
   "display_name": "Python 3.9.5 64-bit",
   "language": "python",
   "name": "python3"
  },
  "language_info": {
   "codemirror_mode": {
    "name": "ipython",
    "version": 3
   },
   "file_extension": ".py",
   "mimetype": "text/x-python",
   "name": "python",
   "nbconvert_exporter": "python",
   "pygments_lexer": "ipython3",
   "version": "3.10.2"
  },
  "orig_nbformat": 4
 },
 "nbformat": 4,
 "nbformat_minor": 2
}

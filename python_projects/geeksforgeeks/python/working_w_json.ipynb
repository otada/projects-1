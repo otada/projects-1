{
 "cells": [
  {
   "cell_type": "code",
   "execution_count": 4,
   "metadata": {},
   "outputs": [
    {
     "name": "stdout",
     "output_type": "stream",
     "text": [
      "{\"name\": \"John\", \"age\": 31, \"Salary\": 25000}\n",
      "{'background_transit': 'true', 'br_gap': 0, 'iterations': 100, 'norm_gap': 0, 'peak_hour_factor': 1, 'performance_flag': True, 'r_gap': 0, 'run_title': 'road assignment', 'scenario_number': 1, 'sola_flag': True, 'traffic_classes': [{'cost_matrix': 0, 'demand_matrix': 0, 'link_cost': 0, 'link_toll_attribute_id': ' @toll', 'mode': 'c', 'name': 'traffic class 1', 'path_analyses': [], 'time_matrix': 0, 'toll_matrix': 0, 'volume_attribute': '@auto_volume1', 'toll_weight': 0}, {'cost_matrix': 0, 'demand_matrix': 0, 'link_cost': 10, 'link_toll_attribute_id': ' @toll', 'mode': 'c', 'name': 'traffic class 2', 'path_analyses': [], 'time_matrix': 0, 'toll_matrix': 0, 'volume_attribute': '@auto_volume2', 'toll_weight': 0}, {'cost_matrix': 0, 'demand_matrix': 0, 'link_cost': 20, 'link_toll_attribute_id': ' @toll', 'mode': 'c', 'name': 'traffic class 4', 'path_analyses': [], 'time_matrix': 0, 'toll_matrix': 0, 'volume_attribute': '@auto_volume3', 'toll_weight': 0}]}\n"
     ]
    }
   ],
   "source": [
    "import json\n",
    "a = {\"name\": \"John\", \"age\": 31, \"Salary\": 25000}\n",
    "\n",
    "p ={\n",
    "    \"background_transit\": \"true\",\n",
    "    \"br_gap\": 0,\n",
    "    \"iterations\": 100,\n",
    "    \"norm_gap\": 0,\n",
    "    \"peak_hour_factor\": 1,\n",
    "    \"performance_flag\": True,\n",
    "    \"r_gap\": 0,\n",
    "    \"run_title\": \"road assignment\",\n",
    "    \"scenario_number\": 1,\n",
    "    \"sola_flag\": True,\n",
    "    \"traffic_classes\": [\n",
    "        {\n",
    "            \"cost_matrix\": 0,\n",
    "            \"demand_matrix\": 0,\n",
    "            \"link_cost\": 0,\n",
    "            \"link_toll_attribute_id\": \" @toll\",\n",
    "            \"mode\": \"c\",\n",
    "            \"name\": \"traffic class 1\",\n",
    "            \"path_analyses\": [],\n",
    "            \"time_matrix\": 0,\n",
    "            \"toll_matrix\": 0,\n",
    "            \"volume_attribute\": \"@auto_volume1\",\n",
    "            \"toll_weight\": 0,\n",
    "        },\n",
    "        {\n",
    "            \"cost_matrix\": 0,\n",
    "            \"demand_matrix\": 0,\n",
    "            \"link_cost\": 10,\n",
    "            \"link_toll_attribute_id\": \" @toll\",\n",
    "            \"mode\": \"c\",\n",
    "            \"name\": \"traffic class 2\",\n",
    "            \"path_analyses\": [],\n",
    "            \"time_matrix\": 0,\n",
    "            \"toll_matrix\": 0,\n",
    "            \"volume_attribute\": \"@auto_volume2\",\n",
    "            \"toll_weight\": 0,\n",
    "        },\n",
    "        {\n",
    "            \"cost_matrix\": 0,\n",
    "            \"demand_matrix\": 0,\n",
    "            \"link_cost\": 20,\n",
    "            \"link_toll_attribute_id\": \" @toll\",\n",
    "            \"mode\": \"c\",\n",
    "            \"name\": \"traffic class 4\",\n",
    "            \"path_analyses\": [],\n",
    "            \"time_matrix\": 0,\n",
    "            \"toll_matrix\": 0,\n",
    "            \"volume_attribute\": \"@auto_volume3\",\n",
    "            \"toll_weight\": 0,\n",
    "            \n",
    "        }\n",
    "    ],\n",
    "}\n",
    "\n",
    "b = json.dumps(a)\n",
    "c = json.dumps(p)\n",
    "\n",
    "print(b)\n",
    "print(p)"
   ]
  },
  {
   "cell_type": "code",
   "execution_count": 8,
   "metadata": {},
   "outputs": [
    {
     "name": "stdout",
     "output_type": "stream",
     "text": [
      "[\"Welcome\", \"to\", \"GeeksforGeeks\"]\n",
      "[\"Welcome\", \"to\", \"GeeksforGeeks\"]\n",
      "\"Hi\"\n",
      "\"123\"\n",
      "\"23.572\"\n",
      "true\n",
      "false\n",
      "null\n"
     ]
    },
    {
     "data": {
      "text/plain": [
       "'[\"Welcome\", \"to\", \"GeeksforGeeks\"]'"
      ]
     },
     "execution_count": 8,
     "metadata": {},
     "output_type": "execute_result"
    }
   ],
   "source": [
    "import json\n",
    "\n",
    "print(json.dumps([\"Welcome\", \"to\", \"GeeksforGeeks\"]))\n",
    "\n",
    "print(json.dumps((\"Welcome\", \"to\", \"GeeksforGeeks\")))\n",
    "\n",
    "print(json.dumps(\"Hi\"))\n",
    "\n",
    "print(json.dumps(\"123\"))\n",
    "\n",
    "print(json.dumps(json.dumps(23.572)))\n",
    "\n",
    "print(json.dumps(True))\n",
    "print(json.dumps(False))\n",
    "\n",
    "print(json.dumps(None))\n",
    "\n",
    "json.dumps([\"Welcome\", \"to\", \"GeeksforGeeks\"])\n",
    "\n",
    "\n",
    "\n"
   ]
  },
  {
   "cell_type": "code",
   "execution_count": 11,
   "metadata": {},
   "outputs": [],
   "source": [
    "var = {\n",
    "\t\"Subjects\": {\n",
    "\t\t\t\t\"Maths\":85,\n",
    "\t\t\t\t\"Physics\":90\n",
    "\t\t\t\t}\n",
    "\t}\n",
    "\n",
    "with open(\"data.json\", \"w\") as p:\n",
    "    json.dump(var, p)"
   ]
  },
  {
   "cell_type": "code",
   "execution_count": 20,
   "metadata": {},
   "outputs": [
    {
     "name": "stdout",
     "output_type": "stream",
     "text": [
      "{'Subjects': {'Maths': 85, 'Physics': 90}}\n"
     ]
    }
   ],
   "source": [
    "with open(\"data.json\", \"r\") as read_it:\n",
    "    data = json.load(read_it)\n",
    "\n",
    "print(data)"
   ]
  },
  {
   "cell_type": "code",
   "execution_count": 23,
   "metadata": {},
   "outputs": [
    {
     "name": "stdout",
     "output_type": "stream",
     "text": [
      "{'Country': {'name': 'INDIA', 'Languages_spoken': [{'names': ['Hindi', 'English', 'Bengali', 'Telugu']}]}}\n"
     ]
    }
   ],
   "source": [
    "json_var =\"\"\"\n",
    "{\n",
    "    \"Country\": {\n",
    "        \"name\": \"INDIA\",\n",
    "        \"Languages_spoken\": [\n",
    "            {\n",
    "                \"names\": [\"Hindi\", \"English\", \"Bengali\", \"Telugu\"]\n",
    "            }\n",
    "        ]\n",
    "    }\n",
    "}\n",
    "\"\"\"\n",
    "\n",
    "var = json.loads(json_var)\n",
    "\n",
    "print(var)"
   ]
  },
  {
   "cell_type": "code",
   "execution_count": 31,
   "metadata": {},
   "outputs": [
    {
     "name": "stdout",
     "output_type": "stream",
     "text": [
      "{\"age\": 31, \"height\": 6}\n",
      "{'age': 31, 'height': 6}\n"
     ]
    }
   ],
   "source": [
    "import json\n",
    "var = {'age':31, 'height':6}\n",
    "\n",
    "x = json.dumps(var)\n",
    "y = json.loads(x)\n",
    "\n",
    "print(x)\n",
    "print(y)\n"
   ]
  },
  {
   "cell_type": "code",
   "execution_count": 44,
   "metadata": {},
   "outputs": [
    {
     "name": "stdout",
     "output_type": "stream",
     "text": [
      "Nitin\n"
     ]
    }
   ],
   "source": [
    "import requests\n",
    "import json\n",
    "\n",
    "res = requests.get(\"https://jsonplaceholder.typicode.com/todos\")\n",
    "var = json.loads(res.text)\n",
    "\n",
    "employee = '{\"id\":\"09\", \"name\": \"Nitin\", \"department\":\"Finance\"}'\n",
    "\n",
    "emp_dict = json.loads(employee)\n",
    "\n",
    "print(emp_dict[\"name\"])"
   ]
  },
  {
   "cell_type": "code",
   "execution_count": 1,
   "metadata": {},
   "outputs": [
    {
     "name": "stdout",
     "output_type": "stream",
     "text": [
      "{\n",
      "    \"id\": \"04\",\n",
      "    \"name\": \"sunil\",\n",
      "    \"department\": \"HR\"\n",
      "}\n"
     ]
    }
   ],
   "source": [
    "# Python program to convert\n",
    "# Python to JSON\n",
    "\n",
    "\n",
    "import json\n",
    "\n",
    "# Data to be written\n",
    "dictionary ={\n",
    "\"id\": \"04\",\n",
    "\"name\": \"sunil\",\n",
    "\"department\": \"HR\"\n",
    "}\n",
    "\n",
    "# Serializing json\n",
    "json_object = json.dumps(dictionary, indent = 4)\n",
    "print(json_object)\n",
    "\n"
   ]
  },
  {
   "cell_type": "code",
   "execution_count": 19,
   "metadata": {},
   "outputs": [
    {
     "name": "stdout",
     "output_type": "stream",
     "text": [
      "Reading parameters from json file 'data.json'.\n",
      "{'background_transit': 'true', 'br_gap': 0, 'iterations': 100, 'norm_gap': 0, 'peak_hour_factor': 1, 'performance_flag': True, 'r_gap': 0, 'run_title': 'road assignment', 'scenario_number': 1, 'sola_flag': True, 'traffic_classes': [{'cost_matrix': 0, 'demand_matrix': 0, 'link_cost': 0, 'link_toll_attribute_id': ' @toll', 'mode': 'c', 'name': 'traffic class 1', 'path_analyses': [], 'time_matrix': 0, 'toll_matrix': 0, 'volume_attribute': '@auto_volume1', 'toll_weight': 0}]}\n"
     ]
    }
   ],
   "source": [
    "import json\n",
    "\n",
    "def read_json_file(json_file_name):\n",
    "    print(\"Reading parameters from json file '%s'.\" %json_file_name)\n",
    "    with open(json_file_name, \"r\") as json_file:\n",
    "        return json.load(json_file)\n",
    "\n",
    "parameters = \"data.json\"\n",
    "parameters = read_json_file(parameters)\n",
    "\n",
    "print(parameters)"
   ]
  },
  {
   "cell_type": "code",
   "execution_count": 23,
   "metadata": {},
   "outputs": [
    {
     "data": {
      "text/plain": [
       "1.6666666666666667"
      ]
     },
     "execution_count": 23,
     "metadata": {},
     "output_type": "execute_result"
    }
   ],
   "source": [
    "def do_this(a,b):\n",
    "    c= a + b\n",
    "    d= a*b\n",
    "    e = a/3\n",
    "    \n",
    "    return c, d, e\n",
    "\n",
    "do_this(5,6)[2]"
   ]
  }
 ],
 "metadata": {
  "interpreter": {
   "hash": "ad44aa13961ca9733d4343df53a1423bfa9b9f3700652f503bccd6e3a904af63"
  },
  "kernelspec": {
   "display_name": "Python 3.9.6 64-bit",
   "language": "python",
   "name": "python3"
  },
  "language_info": {
   "codemirror_mode": {
    "name": "ipython",
    "version": 3
   },
   "file_extension": ".py",
   "mimetype": "text/x-python",
   "name": "python",
   "nbconvert_exporter": "python",
   "pygments_lexer": "ipython3",
   "version": "3.9.6"
  },
  "orig_nbformat": 4
 },
 "nbformat": 4,
 "nbformat_minor": 2
}

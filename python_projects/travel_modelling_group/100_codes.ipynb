{
 "cells": [
  {
   "cell_type": "code",
   "execution_count": 7,
   "metadata": {},
   "outputs": [
    {
     "name": "stdout",
     "output_type": "stream",
     "text": [
      "[6, 8, 10, 12]\n"
     ]
    }
   ],
   "source": [
    "my_list = [3,4,5,6]\n",
    "factor = 2\n",
    "\n",
    "for i, elem in enumerate(my_list):\n",
    "    my_list[i] = elem * factor\n",
    "    \n",
    "print(my_list)"
   ]
  },
  {
   "cell_type": "code",
   "execution_count": 13,
   "metadata": {},
   "outputs": [
    {
     "name": "stdout",
     "output_type": "stream",
     "text": [
      "3 4 5 6 3\n",
      "\n",
      "4\n",
      "\n",
      "5\n",
      "\n",
      "6\n"
     ]
    }
   ],
   "source": [
    "my_list  = [3,4,5,6]\n",
    "\n",
    "for elem in my_list:\n",
    "    print(elem, end=\" \")\n",
    "    \n",
    "# * is unpacking the list\n",
    "print(*my_list, sep=\"\\n\\n\")"
   ]
  },
  {
   "cell_type": "code",
   "execution_count": 12,
   "metadata": {},
   "outputs": [
    {
     "name": "stdout",
     "output_type": "stream",
     "text": [
      "None\n"
     ]
    }
   ],
   "source": [
    "my_list = [3,4,5,6,7,]\n",
    "\n",
    "if my_list:\n",
    "    print(max(my_list), min(my_list))\n",
    "else:\n",
    "    print(None)"
   ]
  }
 ],
 "metadata": {
  "interpreter": {
   "hash": "ad44aa13961ca9733d4343df53a1423bfa9b9f3700652f503bccd6e3a904af63"
  },
  "kernelspec": {
   "display_name": "Python 3.9.6 64-bit",
   "language": "python",
   "name": "python3"
  },
  "language_info": {
   "codemirror_mode": {
    "name": "ipython",
    "version": 3
   },
   "file_extension": ".py",
   "mimetype": "text/x-python",
   "name": "python",
   "nbconvert_exporter": "python",
   "pygments_lexer": "ipython3",
   "version": "3.9.6"
  },
  "orig_nbformat": 4
 },
 "nbformat": 4,
 "nbformat_minor": 2
}

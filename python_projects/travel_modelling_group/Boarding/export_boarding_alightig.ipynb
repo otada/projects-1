{
 "cells": [
  {
   "cell_type": "code",
   "execution_count": 109,
   "metadata": {
    "show_input": true
   },
   "outputs": [
    {
     "name": "stdout",
     "output_type": "stream",
     "text": [
      "TRANSIT_SEGMENT\n",
      "TRANSIT_SEGMENT\n",
      "TRANSIT_SEGMENT\n",
      "TRANSIT_SEGMENT\n",
      "TRANSIT_SEGMENT\n",
      "TRANSIT_SEGMENT\n"
     ]
    }
   ],
   "source": [
    "_m = inro.modeller\n",
    "attribs = _m.Modeller().scenario.extra_attributes()\n",
    "scenario_number = 2\n",
    "scenario = _m.Modeller().emmebank.scenario(scenario_number)\n",
    "\n",
    "for att in attribs:\n",
    "    ex_att =scenario.extra_attribute(att)\n",
    "    if ex_att.type == \"TRANSIT_SEGMENT\":\n",
    "        ex_att_type = ex_att.type\n",
    "        print(ex_att_type)\n",
    "    "
   ]
  },
  {
   "cell_type": "code",
   "execution_count": 110,
   "metadata": {
    "show_input": true
   },
   "outputs": [
    {
     "ename": "KeyboardInterrupt",
     "evalue": "",
     "output_type": "error",
     "traceback": [
      "\u001b[1;31m---------------------------------------------------------------------------\u001b[0m",
      "\u001b[1;31mKeyboardInterrupt\u001b[0m                         Traceback (most recent call last)",
      "\u001b[1;32m<ipython-input-110-738d7d5edff5>\u001b[0m in \u001b[0;36m<module>\u001b[1;34m\u001b[0m\n\u001b[1;32m----> 1\u001b[1;33m \u001b[0mnetwork\u001b[0m \u001b[1;33m=\u001b[0m \u001b[0mscenario\u001b[0m\u001b[1;33m.\u001b[0m\u001b[0mget_network\u001b[0m\u001b[1;33m(\u001b[0m\u001b[1;33m)\u001b[0m\u001b[1;33m\u001b[0m\u001b[1;33m\u001b[0m\u001b[0m\n\u001b[0m\u001b[0;32m      2\u001b[0m \u001b[1;32mfor\u001b[0m \u001b[0msegment\u001b[0m \u001b[1;32min\u001b[0m \u001b[0mnetwork\u001b[0m\u001b[1;33m.\u001b[0m\u001b[0mtransit_segments\u001b[0m\u001b[1;33m(\u001b[0m\u001b[1;33m)\u001b[0m\u001b[1;33m:\u001b[0m\u001b[1;33m\u001b[0m\u001b[1;33m\u001b[0m\u001b[0m\n\u001b[0;32m      3\u001b[0m     \u001b[1;32mfor\u001b[0m \u001b[0matt\u001b[0m \u001b[1;32min\u001b[0m \u001b[0mattribs\u001b[0m\u001b[1;33m:\u001b[0m\u001b[1;33m\u001b[0m\u001b[1;33m\u001b[0m\u001b[0m\n\u001b[0;32m      4\u001b[0m         \u001b[0mex_att\u001b[0m \u001b[1;33m=\u001b[0m\u001b[0mscenario\u001b[0m\u001b[1;33m.\u001b[0m\u001b[0mextra_attribute\u001b[0m\u001b[1;33m(\u001b[0m\u001b[0matt\u001b[0m\u001b[1;33m)\u001b[0m\u001b[1;33m\u001b[0m\u001b[1;33m\u001b[0m\u001b[0m\n",
      "\u001b[1;32mC:\\Program Files\\INRO\\Emme\\Emme 4\\Emme-4.6.0\\Python37\\lib\\site-packages\\inro\\emme\\database\\scenario.pyc\u001b[0m in \u001b[0;36mget_network\u001b[1;34m(self, tracker)\u001b[0m\n",
      "\u001b[1;32mC:\\Program Files\\INRO\\Emme\\Emme 4\\Emme-4.6.0\\Python37\\lib\\site-packages\\inro\\emme\\database\\scenario.pyc\u001b[0m in \u001b[0;36mget_partial_network\u001b[1;34m(self, element_types, include_attributes, tracker)\u001b[0m\n",
      "\u001b[1;32mC:\\Program Files\\INRO\\Emme\\Emme 4\\Emme-4.6.0\\Python37\\lib\\site-packages\\inro\\emme\\database\\scenario.pyc\u001b[0m in \u001b[0;36m_read_segment_attributes\u001b[1;34m(self, network, mapping)\u001b[0m\n",
      "\u001b[1;32mC:\\Program Files\\INRO\\Emme\\Emme 4\\Emme-4.6.0\\Python37\\lib\\site-packages\\inro\\emme\\database\\scenario.pyc\u001b[0m in \u001b[0;36m_read_attributes\u001b[1;34m(mapping, source, dest)\u001b[0m\n",
      "\u001b[1;32mC:\\Program Files\\INRO\\Emme\\Emme 4\\Emme-4.6.0\\Python37\\lib\\site-packages\\inro\\emme\\database\\network.pyc\u001b[0m in \u001b[0;36m__getitem__\u001b[1;34m(self, item)\u001b[0m\n",
      "\u001b[1;32mC:\\Program Files\\INRO\\Emme\\Emme 4\\Emme-4.6.0\\Python37\\lib\\site-packages\\inro\\emme\\core\\property.pyc\u001b[0m in \u001b[0;36mget\u001b[1;34m(self)\u001b[0m\n",
      "\u001b[1;32mC:\\Program Files\\INRO\\Emme\\Emme 4\\Emme-4.6.0\\Python37\\lib\\site-packages\\inro\\emme\\core\\property.pyc\u001b[0m in \u001b[0;36mget\u001b[1;34m(value)\u001b[0m\n",
      "\u001b[1;32mC:\\Program Files\\INRO\\Emme\\Emme 4\\Emme-4.6.0\\Python37\\lib\\site-packages\\inro\\emme\\core\\utilities.pyc\u001b[0m in \u001b[0;36mget_convert\u001b[1;34m(value)\u001b[0m\n",
      "\u001b[1;31mKeyboardInterrupt\u001b[0m: "
     ]
    }
   ],
   "source": [
    "network = scenario.get_network()\n",
    "for segment in network.transit_segments():\n",
    "    for link in network.links():\n",
    "        print(\"| \", segment.id, \" |\", link.id)\n",
    "        break"
   ]
  },
  {
   "cell_type": "code",
   "execution_count": 193,
   "metadata": {
    "show_input": true
   },
   "outputs": [
    {
     "name": "stdout",
     "output_type": "stream",
     "text": [
      "6950.359188437462\n"
     ]
    }
   ],
   "source": [
    "_m = inro.modeller\n",
    "scenario_number = 2\n",
    "scenario = _m.Modeller().emmebank.scenario(scenario_number)\n",
    "network = scenario.get_network()\n",
    "\n",
    "transit_segments = network.transit_segments()\n",
    "nodes = network.regular_nodes()\n",
    "\n",
    "# for segment in transit_segments:\n",
    "#     seg_id = segment.id\n",
    "#     seg_i = segment.i_node\n",
    "#     seg_j = segment.j_node\n",
    "#     seg_data1 = segment.data1\n",
    "#     seg_data2 = segment.data2\n",
    "#     seg_data3 = segment.data3\n",
    "#     seg_baord = segment.transit_boardings\n",
    "#     print(seg_id, segment.loop_index)\n",
    "#     if segment.loop_index == 1:\n",
    "#         break\n",
    "\n",
    "# for node in nodes:\n",
    "#     if node[\"@stop\"] == 1:\n",
    "#         seg_out = node.outgoing_segments()\n",
    "#         for segs in seg_out:\n",
    "#             if segs is not None:\n",
    "#                 print(segs.id)\n",
    "\n",
    "boarding = 0\n",
    "ls = []\n",
    "for segment in transit_segments:\n",
    "    for node in nodes:\n",
    "        if node[\"@stop\"] >= 1:\n",
    "            boarding += segment[\"@boardings\"]\n",
    "            ls\n",
    "print(boarding)"
   ]
  },
  {
   "cell_type": "code",
   "execution_count": 24,
   "metadata": {
    "show_input": true
   },
   "outputs": [
    {
     "name": "stdout",
     "output_type": "stream",
     "text": [
      "10266 ::: GB96Ha-10266-0 ::: 307.17761850357056\n"
     ]
    }
   ],
   "source": [
    "_m = inro.modeller\n",
    "scenario_number = 2\n",
    "scenario = _m.Modeller().emmebank.scenario(scenario_number)\n",
    "network = scenario.get_network()\n",
    "\n",
    "transit_segments = network.transit_segments()\n",
    "regular_nodes = network.regular_nodes()\n",
    "\n",
    "for node in regular_nodes:\n",
    "    origin_nodes = node.outgoing_segments(include_hidden=True)\n",
    "    boardings = 0\n",
    "    segment = \"\"\n",
    "    for origin_node in origin_nodes:\n",
    "        boards_o = origin_node.transit_boardings\n",
    "        boardings += boards_o\n",
    "        segment = origin_node.id\n",
    "        \n",
    "    if boardings != 0:\n",
    "        print (node.id, \":::\", segment, \":::\", boardings)\n",
    "        break\n",
    "\n"
   ]
  },
  {
   "cell_type": "code",
   "execution_count": 213,
   "metadata": {
    "show_input": true
   },
   "outputs": [],
   "source": [
    "for node in regular_nodes:\n",
    "    origin_nodes = node.outgoing_segments(include_hidden=True)\n",
    "    for origin_node in origin_nodes:\n",
    "        if node.id == 10266:\n",
    "            print(origin_node.id)"
   ]
  },
  {
   "cell_type": "code",
   "execution_count": 18,
   "metadata": {
    "show_input": true
   },
   "outputs": [
    {
     "name": "stdout",
     "output_type": "stream",
     "text": [
      "29214\n"
     ]
    }
   ],
   "source": [
    "_m = inro.modeller\n",
    "scenario_number = 2\n",
    "scenario = _m.Modeller().emmebank.scenario(scenario_number)\n",
    "network = scenario.get_network()\n",
    "\n",
    "\n",
    "transit_segments = network.transit_segments()\n",
    "regular_nodes = network.regular_nodes()\n",
    "\n",
    "nodes = 0\n",
    "for node in regular_nodes:\n",
    "    nodes += 1\n",
    "print(nodes)"
   ]
  },
  {
   "cell_type": "code",
   "execution_count": 14,
   "metadata": {
    "show_input": true
   },
   "outputs": [],
   "source": [
    "_m = inro.modeller\n",
    "scenario_number = 5\n",
    "scenario = _m.Modeller().emmebank.scenario(scenario_number)\n",
    "network = scenario.get_network()\n",
    "\n",
    "\n",
    "transit_segments = network.transit_segments()\n",
    "regular_nodes = network.regular_nodes()\n",
    "\n",
    "with open(\"node_of_interest.csv\", \"w\") as file:\n",
    "    file.write(\"id, stations \\n\")\n",
    "    for node in regular_nodes:\n",
    "        if node[\"@stop\"] >= 1:\n",
    "            file.write(\"%s, %s \\n\"% (node.id, \"\"))\n",
    "    \n"
   ]
  },
  {
   "cell_type": "code",
   "execution_count": 6,
   "metadata": {
    "show_input": true
   },
   "outputs": [],
   "source": [
    "## ----VERSION ONE-----------------------------------------------------------------\n",
    "# Load Emme Modeller\n",
    "\n",
    "# Load Scenario\n",
    "\n",
    "# Get number from scenario\n",
    "\n",
    "# Load transit segments and regular nodes\n",
    "\n",
    "# Open file and read containing desired node ids, descriptions(station names)\n",
    "\n",
    "# find nodes and read boarding and alightings\n",
    "\n",
    "\n",
    "\n",
    "## ----VERSION TWO-----------------------------------------------------------------\n",
    "# Build Emme HTML page\n",
    "# Test it\n"
   ]
  },
  {
   "cell_type": "code",
   "execution_count": 43,
   "metadata": {
    "show_input": true
   },
   "outputs": [],
   "source": [
    "## ----VERSION ONE-----------------------------------------------------------------\n",
    "# Load Emme Modeller\n",
    "_m = inro.modeller\n",
    "import csv\n",
    "\n",
    "# Load Scenario\n",
    "scenario_number = 2\n",
    "scenario = _m.Modeller().emmebank.scenario(scenario_number)\n",
    "\n",
    "# Get network from scenario\n",
    "network = scenario.get_network()\n",
    "\n",
    "# Load transit segments and regular nodes\n",
    "transit_segments = network.transit_segments()\n",
    "regular_nodes = network.regular_nodes()\n",
    "\n",
    "# Open file and read containing desired node ids, descriptions(station names)\n",
    "with open(\"inputs.csv\", \"r\") as input_file:\n",
    "    with open(\"ouput.csv\", \"w\", newline='') as output_file:\n",
    "        csv_input_file = csv.reader(input_file)\n",
    "        #fields = [\"node_id\", \"station\", \"boardings\", \"alightings\"]\n",
    "        csv_file_writer = csv.writer(output_file)\n",
    "        #csv_file_writer.writerow(fields)   \n",
    "        for lines in csv_input_file:\n",
    "            node_id = lines[0]\n",
    "            if node_id == \"id\":\n",
    "                continue\n",
    "            description = lines[1] \n",
    "            for node in regular_nodes:\n",
    "                if node[\"@stop\"] >= 1 and int(node.id) == int(node_id):\n",
    "                    #rows = [node.id, node.label, node.x, node.y]\n",
    "                    #csv_file_writer.writerow(rows)\n",
    "                    origin_nodes = node.outgoing_segments(include_hidden=True)\n",
    "                    boardings = 0\n",
    "                    alightings = 0\n",
    "                    segment = \"\"\n",
    "                    for origin_node in origin_nodes:\n",
    "                        boards_o = origin_node.transit_boardings\n",
    "                        boardings += boards_o\n",
    "                        segment = origin_node.id\n",
    "                    if boardings != 0:\n",
    "                        rows = [node.id, node_id, boardings]\n",
    "                    csv_file_writer.writerow(rows)\n",
    "# find nodes and read boarding and alightings"
   ]
  },
  {
   "cell_type": "code",
   "execution_count": 2,
   "metadata": {
    "show_input": true
   },
   "outputs": [],
   "source": [
    "## ----VERSION ONE-----------------------------------------------------------------\n",
    "# Load Emme Modeller\n",
    "_m = inro.modeller\n",
    "import csv\n",
    "\n",
    "# Load Scenario\n",
    "scenario_number = 2\n",
    "scenario = _m.Modeller().emmebank.scenario(scenario_number)\n",
    "\n",
    "# Get network from scenario\n",
    "network = scenario.get_network()\n",
    "\n",
    "# Load transit segments and regular nodes\n",
    "transit_segments = network.transit_segments()\n",
    "regular_nodes = network.regular_nodes()\n",
    "\n",
    "# Open file and read containing desired node ids, descriptions(station names)\n",
    "with open(\"inputs.csv\", \"r\") as input_file:\n",
    "    csv_input_file = csv.reader(input_file)\n",
    "    node_dict = {}\n",
    "    for lines in csv_input_file:\n",
    "        node_id = lines[0]\n",
    "        if node_id == \"id\":\n",
    "            continue\n",
    "        description = lines[1]\n",
    "        node_dict[node_id] = [description]\n",
    "    board_alight_dict = {}\n",
    "    for node in regular_nodes:\n",
    "        if node[\"@stop\"] >= 1:\n",
    "            out_segments = node.outgoing_segments(include_hidden=True)\n",
    "            boardings = 0\n",
    "            alightings = 0\n",
    "            for segment in out_segments:\n",
    "                trans_boarding = segment.transit_boardings\n",
    "                boardings += trans_boarding\n",
    "                alightings += segment[\"@alightings\"]\n",
    "            rows = [boardings, alightings, node.x, node.y]\n",
    "            board_alight_dict[node.id] = rows\n",
    "    with open(\"outputs.csv\", \"w\", newline=\"\") as output_file:\n",
    "        fields = [\"node_id\", \"boardings\", \"alightings\", \"x\", \"y\", \"station\"]\n",
    "        csv_file_writer = csv.writer(output_file)\n",
    "        csv_file_writer.writerow(fields)\n",
    "        \n",
    "        boarding_alighting_dict = dict([(k, board_alight_dict[k] + node_dict[k]) for k in set(node_dict) & set(board_alight_dict)])\n",
    "        for key in boarding_alighting_dict:\n",
    "            rows = [key,  boarding_alighting_dict[key][0], boarding_alighting_dict[key][1], str(boarding_alighting_dict[key][2]), boarding_alighting_dict[key][3], boarding_alighting_dict[key][4]]\n",
    "            csv_file_writer.writerow(rows)\n",
    "    \n"
   ]
  },
  {
   "cell_type": "code",
   "execution_count": 15,
   "metadata": {
    "show_input": true
   },
   "outputs": [],
   "source": [
    "import inro.modeller as _m\n",
    "import csv\n",
    "\n",
    "_MODELLER = _m.Modeller()  # Instantiate Modeller once.\n",
    "_bank = _MODELLER.emmebank\n",
    "\n",
    "class ExportBoardingAndAlighting(_m.Tool()):\n",
    "    #parameters = _m.Attribute(str)\n",
    "\n",
    "    def __init__(self):\n",
    "        self.scenario = _MODELLER.scenario\n",
    "\n",
    "    def __call__(self, parameters):\n",
    "        scenario = self._load_scenario(parameters[\"scenario_number\"])\n",
    "        try:\n",
    "            self._execute(scenario, parameters)\n",
    "        except Exception as e:\n",
    "            raise Exception\n",
    "            \n",
    "    def run(self, parameters):\n",
    "        scenario = self._load_scenario(parameters[\"scenario_number\"])\n",
    "        try:\n",
    "            self._execute(scenario, parameters)\n",
    "        except Exception as e:\n",
    "            raise Exception\n",
    "        \n",
    "\n",
    "    def run_xtmf(self, parameters):\n",
    "        scenario = self._load_scenario(parameters[\"scenario_number\"])\n",
    "\n",
    "        try:\n",
    "            self._execute(scenario, parameters)\n",
    "        except Exception as e:\n",
    "            raise Exception\n",
    "\n",
    "    def _execute(self, scenario, parameters):\n",
    "        # Get network from scenario\n",
    "        network = scenario.get_network()\n",
    "\n",
    "        # Load transit segments and regular nodes\n",
    "        transit_segments = network.transit_segments()\n",
    "        regular_nodes = network.regular_nodes()\n",
    "\n",
    "        # Open file and read containing desired node ids, descriptions(station names)\n",
    "        with open(parameters[\"input_file\"], \"r\") as input_file:\n",
    "            csv_input_file = csv.reader(input_file)\n",
    "            node_frm_file_dict = self._load_node_from_file(csv_input_file)\n",
    "            scenario_board_alight_dict = self._get_boarding_alighting(regular_nodes)\n",
    "            with open(parameters[\"export_file\"], \"w\", newline=\"\") as output_file:\n",
    "                fields = [\"node_id\", \"boardings\", \"alightings\", \"x\", \"y\", \"station\"]\n",
    "                csv_file_writer = csv.writer(output_file)\n",
    "                csv_file_writer.writerow(fields)\n",
    "\n",
    "                ba_dict = self._find_boarding_alighting(\n",
    "                    scenario_board_alight_dict, node_frm_file_dict\n",
    "                )\n",
    "                self._write_boarding_and_alighting_to_file(ba_dict, csv_file_writer)\n",
    "\n",
    "    def _load_scenario(self, scenario_number):\n",
    "        scenario = _bank.scenario(scenario_number)\n",
    "        if scenario is None:\n",
    "            raise Exception(\"Scenario %s was not found!\" % scenario_number)\n",
    "        return scenario\n",
    "\n",
    "    def _load_node_from_file(self, csv_file_to_read_from):\n",
    "        node_dict = {}\n",
    "        for lines in csv_file_to_read_from:\n",
    "            node_id = lines[0]\n",
    "            if node_id == \"id\":\n",
    "                continue\n",
    "            description = lines[1]\n",
    "            node_dict[node_id] = [description]\n",
    "        return node_dict\n",
    "\n",
    "    def _get_boarding_alighting(self, regular_nodes):\n",
    "        board_alight_dict = {}\n",
    "        for node in regular_nodes:\n",
    "            if node[\"@stop\"] >= 1:\n",
    "                out_segments = node.outgoing_segments(include_hidden=True)\n",
    "                boardings = 0\n",
    "                alightings = 0\n",
    "                for segment in out_segments:\n",
    "                    trans_boarding = segment.transit_boardings\n",
    "                    boardings += trans_boarding\n",
    "                    alightings += segment[\"@alightings\"]\n",
    "                rows = [boardings, alightings, node.x, node.y]\n",
    "                board_alight_dict[node.id] = rows\n",
    "        return board_alight_dict\n",
    "\n",
    "    def _find_boarding_alighting(self, scenario_board_alight_dict, node_frm_file_dict):\n",
    "        boarding_alighting_dict = dict(\n",
    "            [\n",
    "                (k, scenario_board_alight_dict[k] + node_frm_file_dict[k])\n",
    "                for k in set(node_frm_file_dict) & set(scenario_board_alight_dict)\n",
    "            ]\n",
    "        )\n",
    "        return boarding_alighting_dict\n",
    "\n",
    "    def _write_boarding_and_alighting_to_file(self, ba_dict, csv_file_writer):\n",
    "        for key in ba_dict:\n",
    "            rows = [\n",
    "                key,\n",
    "                ba_dict[key][0],\n",
    "                ba_dict[key][1],\n",
    "                str(ba_dict[key][2]),\n",
    "                ba_dict[key][3],\n",
    "                ba_dict[key][4],\n",
    "            ]\n",
    "            csv_file_writer.writerow(rows)\n",
    "\n"
   ]
  },
  {
   "cell_type": "code",
   "execution_count": 17,
   "metadata": {
    "show_input": true
   },
   "outputs": [],
   "source": [
    "parameters = {\n",
    "    \"scenario_number\": 5,\n",
    "    \"input_file\": \"node_of_interest.csv\",\n",
    "    \"export_file\": \"stops_boarding_alightings_PM.csv\",\n",
    "}\n",
    "\n",
    "export_a_b =  ExportBoardingAndAlighting()\n",
    "\n",
    "export_a_b.run(parameters)\n"
   ]
  },
  {
   "cell_type": "code",
   "execution_count": 20,
   "metadata": {},
   "outputs": [
    {
     "ename": "NameError",
     "evalue": "name 'i' is not defined",
     "output_type": "error",
     "traceback": [
      "\u001b[1;31m---------------------------------------------------------------------------\u001b[0m",
      "\u001b[1;31mNameError\u001b[0m                                 Traceback (most recent call last)",
      "\u001b[1;32m<ipython-input-20-cf68d02b2023>\u001b[0m in \u001b[0;36m<module>\u001b[1;34m\u001b[0m\n\u001b[1;32m----> 1\u001b[1;33m \u001b[1;32mif\u001b[0m \u001b[0mi\u001b[0m \u001b[1;33m>\u001b[0m \u001b[1;36m3\u001b[0m\u001b[1;33m:\u001b[0m \u001b[0mprint\u001b[0m\u001b[1;33m(\u001b[0m\u001b[1;34m\"We are done.\"\u001b[0m\u001b[1;33m)\u001b[0m\u001b[1;33m\u001b[0m\u001b[1;33m\u001b[0m\u001b[0m\n\u001b[0m",
      "\u001b[1;31mNameError\u001b[0m: name 'i' is not defined"
     ]
    }
   ],
   "source": [
    "value_true if <test> else value_false"
   ]
  },
  {
   "cell_type": "code",
   "execution_count": null,
   "metadata": {},
   "outputs": [],
   "source": []
  }
 ],
 "metadata": {
  "kernelspec": {
   "display_name": "Python 3",
   "language": "python",
   "name": "python3"
  },
  "language_info": {
   "codemirror_mode": {
    "name": "ipython",
    "version": 3
   },
   "file_extension": ".py",
   "mimetype": "text/x-python",
   "name": "python",
   "nbconvert_exporter": "python",
   "pygments_lexer": "ipython3",
   "version": "3.7.6"
  },
  "modeller": {
   "desktop_app_port": "4242"
  }
 },
 "nbformat": 4,
 "nbformat_minor": 2
}

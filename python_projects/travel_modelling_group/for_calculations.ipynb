{
 "cells": [
  {
   "cell_type": "code",
   "execution_count": 2,
   "metadata": {},
   "outputs": [
    {
     "name": "stdout",
     "output_type": "stream",
     "text": [
      "['2', '2', '2', '4', '5', '6', '7', '8', '9']\n"
     ]
    }
   ],
   "source": [
    "link_cost = \"2,2,2,4,5,6,7,8,9\"\n",
    "\n",
    "link_up =\"\"\n",
    "link_up = [str(x) for x in link_cost.split(\",\")]\n",
    "\n",
    "print(link_up)\n",
    "\n"
   ]
  },
  {
   "cell_type": "code",
   "execution_count": 10,
   "metadata": {},
   "outputs": [
    {
     "name": "stdout",
     "output_type": "stream",
     "text": [
      "<generator object generator at 0x0000022BE62013C0>\n",
      "<class 'generator'>\n",
      "8\n"
     ]
    }
   ],
   "source": [
    "def generator():\n",
    "       \n",
    "    welcome = 3 + 5\n",
    "\n",
    "    yield welcome\n",
    "\n",
    "gen_object = generator()\n",
    "print(gen_object)\n",
    "print(type(gen_object))\n",
    "\n",
    "for i in gen_object:\n",
    "\n",
    "   print(i)"
   ]
  },
  {
   "cell_type": "code",
   "execution_count": 14,
   "metadata": {},
   "outputs": [
    {
     "name": "stdout",
     "output_type": "stream",
     "text": [
      "anyfunction\n",
      "before print j\n",
      "0\n",
      "anyfunction\n",
      "before print j\n",
      "1\n",
      "anyfunction\n",
      "before print j\n",
      "2\n",
      "anyfunction\n",
      "before print j\n",
      "3\n",
      "anyfunction\n",
      "before print j\n",
      "4\n",
      "anyfunction\n",
      "before print j\n",
      "5\n",
      "anyfunction\n",
      "before print j\n",
      "6\n",
      "anyfunction\n",
      "before print j\n",
      "7\n",
      "anyfunction\n",
      "before print j\n",
      "8\n",
      "anyfunction\n",
      "before print j\n",
      "9\n"
     ]
    }
   ],
   "source": [
    "def anyfunction():\n",
    "    for i in range(10):\n",
    "        print(\"anyfunction\")\n",
    "        yield i\n",
    "\n",
    "for j in anyfunction():\n",
    "    print(\"before print j\")\n",
    "    print(j)"
   ]
  },
  {
   "cell_type": "code",
   "execution_count": 1,
   "metadata": {},
   "outputs": [
    {
     "data": {
      "text/plain": [
       "'1|3|5|6|8'"
      ]
     },
     "execution_count": 1,
     "metadata": {},
     "output_type": "execute_result"
    }
   ],
   "source": [
    "matrices= [1, 3, 5, 6, 8]\n",
    "\"|\".join([str(x) for x in matrices])"
   ]
  },
  {
   "cell_type": "code",
   "execution_count": 1,
   "metadata": {},
   "outputs": [
    {
     "name": "stdout",
     "output_type": "stream",
     "text": [
      "None\n"
     ]
    }
   ],
   "source": [
    "chain = [1,2,3,4,5,6,7,5]\n",
    "chain_x = []\n",
    "\n",
    "test_a = chain[-1] if chain else None\n",
    "\n",
    "test_b = chain_x[-1] if chain_x else None\n",
    "\n",
    "print(test_b)"
   ]
  },
  {
   "cell_type": "code",
   "execution_count": 1,
   "metadata": {},
   "outputs": [
    {
     "name": "stdout",
     "output_type": "stream",
     "text": [
      "Hello, World!\n",
      "I'm a decorated function!\n"
     ]
    }
   ],
   "source": [
    "class DecoratorExample:\n",
    "    \"\"\" Example Class \"\"\"\n",
    "  \n",
    "    def __init__():\n",
    "        \"\"\" Example Setup \"\"\"\n",
    "        print('Hello, World!')\n",
    "    @staticmethod\n",
    "    def example_function():\n",
    "        \"\"\" This method is decorated! \"\"\"\n",
    "        print('I\\'m a decorated function!')\n",
    "        \n",
    "de = DecoratorExample()\n",
    "de.example_function()"
   ]
  },
  {
   "cell_type": "code",
   "execution_count": 1,
   "metadata": {},
   "outputs": [
    {
     "name": "stdout",
     "output_type": "stream",
     "text": [
      "['a', 'c', 'b', 'c']\n"
     ]
    }
   ],
   "source": [
    "mode = \"a,c,b,c\"\n",
    "\n",
    "mode_list = mode.split(\",\")\n",
    "\n",
    "print(mode_list)"
   ]
  },
  {
   "cell_type": "code",
   "execution_count": 2,
   "metadata": {},
   "outputs": [
    {
     "ename": "TypeError",
     "evalue": "the JSON object must be str, bytes or bytearray, not dict",
     "output_type": "error",
     "traceback": [
      "\u001b[1;31m---------------------------------------------------------------------------\u001b[0m",
      "\u001b[1;31mTypeError\u001b[0m                                 Traceback (most recent call last)",
      "\u001b[1;32m~\\AppData\\Local\\Temp/ipykernel_16460/4192102317.py\u001b[0m in \u001b[0;36m<module>\u001b[1;34m\u001b[0m\n\u001b[0;32m     57\u001b[0m \u001b[1;33m\u001b[0m\u001b[0m\n\u001b[0;32m     58\u001b[0m \u001b[1;33m\u001b[0m\u001b[0m\n\u001b[1;32m---> 59\u001b[1;33m \u001b[0mparameters\u001b[0m \u001b[1;33m=\u001b[0m \u001b[0mjson\u001b[0m\u001b[1;33m.\u001b[0m\u001b[0mloads\u001b[0m\u001b[1;33m(\u001b[0m\u001b[0mparameters\u001b[0m\u001b[1;33m)\u001b[0m\u001b[1;33m\u001b[0m\u001b[1;33m\u001b[0m\u001b[0m\n\u001b[0m\u001b[0;32m     60\u001b[0m \u001b[1;33m\u001b[0m\u001b[0m\n\u001b[0;32m     61\u001b[0m \u001b[0mprint\u001b[0m\u001b[1;33m(\u001b[0m\u001b[1;34m\"JSON string = \"\u001b[0m\u001b[1;33m,\u001b[0m \u001b[0mparameters\u001b[0m\u001b[1;33m)\u001b[0m\u001b[1;33m\u001b[0m\u001b[1;33m\u001b[0m\u001b[0m\n",
      "\u001b[1;32m~\\AppData\\Local\\Programs\\Python\\Python39\\lib\\json\\__init__.py\u001b[0m in \u001b[0;36mloads\u001b[1;34m(s, cls, object_hook, parse_float, parse_int, parse_constant, object_pairs_hook, **kw)\u001b[0m\n\u001b[0;32m    337\u001b[0m     \u001b[1;32melse\u001b[0m\u001b[1;33m:\u001b[0m\u001b[1;33m\u001b[0m\u001b[1;33m\u001b[0m\u001b[0m\n\u001b[0;32m    338\u001b[0m         \u001b[1;32mif\u001b[0m \u001b[1;32mnot\u001b[0m \u001b[0misinstance\u001b[0m\u001b[1;33m(\u001b[0m\u001b[0ms\u001b[0m\u001b[1;33m,\u001b[0m \u001b[1;33m(\u001b[0m\u001b[0mbytes\u001b[0m\u001b[1;33m,\u001b[0m \u001b[0mbytearray\u001b[0m\u001b[1;33m)\u001b[0m\u001b[1;33m)\u001b[0m\u001b[1;33m:\u001b[0m\u001b[1;33m\u001b[0m\u001b[1;33m\u001b[0m\u001b[0m\n\u001b[1;32m--> 339\u001b[1;33m             raise TypeError(f'the JSON object must be str, bytes or bytearray, '\n\u001b[0m\u001b[0;32m    340\u001b[0m                             f'not {s.__class__.__name__}')\n\u001b[0;32m    341\u001b[0m         \u001b[0ms\u001b[0m \u001b[1;33m=\u001b[0m \u001b[0ms\u001b[0m\u001b[1;33m.\u001b[0m\u001b[0mdecode\u001b[0m\u001b[1;33m(\u001b[0m\u001b[0mdetect_encoding\u001b[0m\u001b[1;33m(\u001b[0m\u001b[0ms\u001b[0m\u001b[1;33m)\u001b[0m\u001b[1;33m,\u001b[0m \u001b[1;34m'surrogatepass'\u001b[0m\u001b[1;33m)\u001b[0m\u001b[1;33m\u001b[0m\u001b[1;33m\u001b[0m\u001b[0m\n",
      "\u001b[1;31mTypeError\u001b[0m: the JSON object must be str, bytes or bytearray, not dict"
     ]
    }
   ],
   "source": [
    "import json\n",
    "\n",
    "parameters = {\n",
    "    \"background_transit\": \"true\",\n",
    "    \"br_gap\": 0,\n",
    "    \"iterations\": 100,\n",
    "    \"norm_gap\": 0,\n",
    "    \"peak_hour_factor\": 1,\n",
    "    \"performance_flag\": True,\n",
    "    \"r_gap\": 0,\n",
    "    \"run_title\": \"road assignment\",\n",
    "    \"scenario_number\": 1,\n",
    "    \"sola_flag\": True,\n",
    "    \"traffic_classes\": [\n",
    "        {\n",
    "            \"cost_matrix\": 0,\n",
    "            \"demand_matrix\": 0,\n",
    "            \"link_cost\": 0,\n",
    "            \"link_toll_attribute_id\": \" @toll\",\n",
    "            \"mode\": \"c\",\n",
    "            \"name\": \"traffic class 1\",\n",
    "            \"path_analyses\": [],\n",
    "            \"time_matrix\": 0,\n",
    "            \"toll_matrix\": 0,\n",
    "            \"volume_attribute\": \"@auto_volume1\",\n",
    "            \"toll_weight\": 0,\n",
    "        },\n",
    "        {\n",
    "            \"cost_matrix\": 0,\n",
    "            \"demand_matrix\": 0,\n",
    "            \"link_cost\": 10,\n",
    "            \"link_toll_attribute_id\": \" @toll\",\n",
    "            \"mode\": \"c\",\n",
    "            \"name\": \"traffic class 2\",\n",
    "            \"path_analyses\": [],\n",
    "            \"time_matrix\": 0,\n",
    "            \"toll_matrix\": 0,\n",
    "            \"volume_attribute\": \"@auto_volume2\",\n",
    "            \"toll_weight\": 0,\n",
    "        },\n",
    "        {\n",
    "            \"cost_matrix\": 0,\n",
    "            \"demand_matrix\": 0,\n",
    "            \"link_cost\": 20,\n",
    "            \"link_toll_attribute_id\": \" @toll\",\n",
    "            \"mode\": \"c\",\n",
    "            \"name\": \"traffic class 4\",\n",
    "            \"path_analyses\": [],\n",
    "            \"time_matrix\": 0,\n",
    "            \"toll_matrix\": 0,\n",
    "            \"volume_attribute\": \"@auto_volume3\",\n",
    "            \"toll_weight\": 0,\n",
    "            \n",
    "        }\n",
    "    ],\n",
    "}\n",
    "\n",
    "\n",
    "parameters = json.loads(parameters)\n",
    "\n",
    "print(\"JSON string = \", parameters)\n",
    "print()"
   ]
  },
  {
   "cell_type": "code",
   "execution_count": 14,
   "metadata": {},
   "outputs": [
    {
     "name": "stdout",
     "output_type": "stream",
     "text": [
      "JSON string =  {'name': 'Bob', 'languages': 'English'}\n",
      "\n"
     ]
    },
    {
     "ename": "IndexError",
     "evalue": "string index out of range",
     "output_type": "error",
     "traceback": [
      "\u001b[1;31m---------------------------------------------------------------------------\u001b[0m",
      "\u001b[1;31mIndexError\u001b[0m                                Traceback (most recent call last)",
      "\u001b[1;32m~\\AppData\\Local\\Temp/ipykernel_16460/3394884700.py\u001b[0m in \u001b[0;36m<module>\u001b[1;34m\u001b[0m\n\u001b[0;32m     23\u001b[0m \u001b[1;31m# list\u001b[0m\u001b[1;33m\u001b[0m\u001b[1;33m\u001b[0m\u001b[1;33m\u001b[0m\u001b[0m\n\u001b[0;32m     24\u001b[0m \u001b[1;32mfor\u001b[0m \u001b[0mi\u001b[0m \u001b[1;32min\u001b[0m \u001b[0mdata\u001b[0m\u001b[1;33m:\u001b[0m\u001b[1;33m\u001b[0m\u001b[1;33m\u001b[0m\u001b[0m\n\u001b[1;32m---> 25\u001b[1;33m     \u001b[0mprint\u001b[0m\u001b[1;33m(\u001b[0m\u001b[0mi\u001b[0m\u001b[1;33m[\u001b[0m\u001b[1;36m0\u001b[0m\u001b[1;33m]\u001b[0m\u001b[1;33m[\u001b[0m\u001b[1;36m1\u001b[0m\u001b[1;33m]\u001b[0m\u001b[1;33m)\u001b[0m\u001b[1;33m\u001b[0m\u001b[1;33m\u001b[0m\u001b[0m\n\u001b[0m\u001b[0;32m     26\u001b[0m \u001b[1;33m\u001b[0m\u001b[0m\n\u001b[0;32m     27\u001b[0m \u001b[1;31m# Closing file\u001b[0m\u001b[1;33m\u001b[0m\u001b[1;33m\u001b[0m\u001b[1;33m\u001b[0m\u001b[0m\n",
      "\u001b[1;31mIndexError\u001b[0m: string index out of range"
     ]
    }
   ],
   "source": [
    "import json\n",
    " \n",
    " \n",
    "# JSON string\n",
    "a = '{\"name\": \"Bob\", \"languages\": \"English\"}'\n",
    " \n",
    "# deserializes into dict\n",
    "# and returns dict.\n",
    "y = json.loads(a)\n",
    " \n",
    "print(\"JSON string = \", y)\n",
    "print()\n",
    " \n",
    " \n",
    " \n",
    "# JSON file\n",
    "f = open ('data.json', \"r\")\n",
    " \n",
    "# Reading from file\n",
    "data = json.loads(f.read())\n",
    " \n",
    "# Iterating through the json\n",
    "# list\n",
    "for i in data:\n",
    "    print(i[0][1])\n",
    " \n",
    "# Closing file\n",
    "f.close()\n"
   ]
  }
 ],
 "metadata": {
  "interpreter": {
   "hash": "ad44aa13961ca9733d4343df53a1423bfa9b9f3700652f503bccd6e3a904af63"
  },
  "kernelspec": {
   "display_name": "Python 3.9.6 64-bit",
   "name": "python3"
  },
  "language_info": {
   "codemirror_mode": {
    "name": "ipython",
    "version": 3
   },
   "file_extension": ".py",
   "mimetype": "text/x-python",
   "name": "python",
   "nbconvert_exporter": "python",
   "pygments_lexer": "ipython3",
   "version": "3.9.6"
  },
  "orig_nbformat": 4
 },
 "nbformat": 4,
 "nbformat_minor": 2
}

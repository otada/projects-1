{
 "cells": [
  {
   "cell_type": "code",
   "execution_count": 2,
   "metadata": {},
   "outputs": [
    {
     "name": "stdout",
     "output_type": "stream",
     "text": [
      "['2', '2', '2', '4', '5', '6', '7', '8', '9']\n"
     ]
    }
   ],
   "source": [
    "link_cost = \"2,2,2,4,5,6,7,8,9\"\n",
    "\n",
    "link_up =\"\"\n",
    "link_up = [str(x) for x in link_cost.split(\",\")]\n",
    "\n",
    "print(link_up)\n",
    "\n"
   ]
  },
  {
   "cell_type": "code",
   "execution_count": 10,
   "metadata": {},
   "outputs": [
    {
     "name": "stdout",
     "output_type": "stream",
     "text": [
      "<generator object generator at 0x0000022BE62013C0>\n",
      "<class 'generator'>\n",
      "8\n"
     ]
    }
   ],
   "source": [
    "def generator():\n",
    "       \n",
    "    welcome = 3 + 5\n",
    "\n",
    "    yield welcome\n",
    "\n",
    "gen_object = generator()\n",
    "print(gen_object)\n",
    "print(type(gen_object))\n",
    "\n",
    "for i in gen_object:\n",
    "\n",
    "   print(i)"
   ]
  },
  {
   "cell_type": "code",
   "execution_count": 14,
   "metadata": {},
   "outputs": [
    {
     "name": "stdout",
     "output_type": "stream",
     "text": [
      "anyfunction\n",
      "before print j\n",
      "0\n",
      "anyfunction\n",
      "before print j\n",
      "1\n",
      "anyfunction\n",
      "before print j\n",
      "2\n",
      "anyfunction\n",
      "before print j\n",
      "3\n",
      "anyfunction\n",
      "before print j\n",
      "4\n",
      "anyfunction\n",
      "before print j\n",
      "5\n",
      "anyfunction\n",
      "before print j\n",
      "6\n",
      "anyfunction\n",
      "before print j\n",
      "7\n",
      "anyfunction\n",
      "before print j\n",
      "8\n",
      "anyfunction\n",
      "before print j\n",
      "9\n"
     ]
    }
   ],
   "source": [
    "def anyfunction():\n",
    "    for i in range(10):\n",
    "        print(\"anyfunction\")\n",
    "        yield i\n",
    "\n",
    "for j in anyfunction():\n",
    "    print(\"before print j\")\n",
    "    print(j)"
   ]
  },
  {
   "cell_type": "code",
   "execution_count": 20,
   "metadata": {},
   "outputs": [
    {
     "data": {
      "text/plain": [
       "'1|3|5|6|8'"
      ]
     },
     "execution_count": 20,
     "metadata": {},
     "output_type": "execute_result"
    }
   ],
   "source": [
    "matrices= [1, 3, 5, 6, 8]\n",
    "\"|\".join([str(x) for x in matrices])"
   ]
  }
 ],
 "metadata": {
  "interpreter": {
   "hash": "ad44aa13961ca9733d4343df53a1423bfa9b9f3700652f503bccd6e3a904af63"
  },
  "kernelspec": {
   "display_name": "Python 3.9.6 64-bit",
   "name": "python3"
  },
  "language_info": {
   "codemirror_mode": {
    "name": "ipython",
    "version": 3
   },
   "file_extension": ".py",
   "mimetype": "text/x-python",
   "name": "python",
   "nbconvert_exporter": "python",
   "pygments_lexer": "ipython3",
   "version": "3.9.6"
  },
  "orig_nbformat": 4
 },
 "nbformat": 4,
 "nbformat_minor": 2
}

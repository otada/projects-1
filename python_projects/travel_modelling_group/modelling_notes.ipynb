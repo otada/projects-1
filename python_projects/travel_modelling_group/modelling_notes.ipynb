{
 "cells": [
  {
   "cell_type": "code",
   "execution_count": 9,
   "metadata": {},
   "outputs": [
    {
     "name": "stdout",
     "output_type": "stream",
     "text": [
      "['a,b,c']\n"
     ]
    }
   ],
   "source": [
    "parameters = {\n",
    "    \"calculate_congested_ivtt_flag\": True,\n",
    "    \"node_logit_scale\": True,\n",
    "    \"effective_headway_attribute\": \"@ehdw1\",\n",
    "    \"effective_headway_slope\": 0.165,\n",
    "    \"headway_fraction_attribute\": \"@frac1\",\n",
    "    \"iterations\": 100,\n",
    "    \"norm_gap\": 0,\n",
    "    \"rel_gap\": 0,\n",
    "    \"scenario_number\": 1,\n",
    "    \"walk_speed\": 0,\n",
    "    \"transit_classes\": [\n",
    "        {\n",
    "            \"name\": \"transit_class_1\",\n",
    "            \"board_penalty_matrix\": \"mf0\",\n",
    "            \"board_penalty_perception\": 1,\n",
    "            \"congestion_matrix\": \"mf0\",\n",
    "            \"demand_matrix\": \"mf0\",\n",
    "            \"fare_matrix\": \"mf0\",\n",
    "            \"fare_perception\": 0,\n",
    "            \"in_vehicle_time_matrix\": \"mf0\",\n",
    "            \"impedance_matrix\": \"mf0\",\n",
    "            \"link_fare_attribute_id\": \"@lfare1\",\n",
    "            \"mode\": \"a,b,c\",\n",
    "            \"perceived_travel_time_matrix\": \"mf0\",\n",
    "            \"segment_fare_attribute\": \"@sfare1\",\n",
    "            \"wait_time_perception\": 0,\n",
    "            \"wait_time_matrix\": \"mf0\",\n",
    "            \"walk_time_perception_attribute\": \"@walkp1\",\n",
    "            \"walk_time_matrix\": \"mf0\",\n",
    "            \"walk_perceptions\": [\n",
    "                {\n",
    "                    \"filter\": \"i=10000,20000 or j=1...7000,98000\",\n",
    "                    \"walk_perception_value\": 1.8,\n",
    "                }\n",
    "            ],\n",
    "        }\n",
    "    ],\n",
    "    \"surface_transit_speeds\": [\n",
    "        {\n",
    "            \"alighting_duration\": 1.1219,\n",
    "            \"boarding_duration\": 1.9577,\n",
    "            \"default_duration\": 7.4331,\n",
    "            \"global_erow_speed\": 35,\n",
    "            \"line_filter_expression\": \"\",\n",
    "            \"mode_filter_expression\": \"b\",\n",
    "            \"transit_auto_correlation\": 1.612,\n",
    "        }\n",
    "    ],\n",
    "    \"ttf_definitions\": [\n",
    "        {\"congestion_exponent\": 5.972385, \"congestion_perception\": 1, \"ttf\": 1}\n",
    "    ],\n",
    "    \"congestion_exponent\": \"\",\n",
    "    \"assignment_period\": 0,\n",
    "    \"name_string\": \"\",\n",
    "    \"congested_assignment\": \"\",\n",
    "    \"csvfile\": \"\",\n",
    "    \"origin_distribution_logit_scale\": 0,\n",
    "    \"walk_distribution_logit_scale\": 3,\n",
    "    \"surface_transit_speed\": \"\",\n",
    "    \"walk_all_way_flag\": False,\n",
    "    \"xrow_ttf_range\": \"2\",\n",
    "}\n",
    "for transit_class in parameters[\"transit_classes\"]:\n",
    "    modechar = transit_class[\"mode\"].split()\n",
    "    print(modechar)"
   ]
  },
  {
   "cell_type": "code",
   "execution_count": 1,
   "metadata": {},
   "outputs": [
    {
     "name": "stdout",
     "output_type": "stream",
     "text": [
      "args:  ('geeks', 'for', 'geeks')\n",
      "kwargs:  {'first': 'Geeks', 'mid': 'for', 'last': 'Geeks'}\n",
      "Geeks\n"
     ]
    }
   ],
   "source": [
    "def myFun(*args,**kwargs):\n",
    "    print(\"args: \", args)\n",
    "    print(\"kwargs: \", kwargs)\n",
    "    print(kwargs[\"first\"])\n",
    " \n",
    " \n",
    "# Now we can use both *args ,**kwargs\n",
    "# to pass arguments to this function :\n",
    "myFun('geeks','for','geeks',first=\"Geeks\",mid=\"for\",last=\"Geeks\")"
   ]
  },
  {
   "cell_type": "code",
   "execution_count": 15,
   "metadata": {},
   "outputs": [
    {
     "name": "stdout",
     "output_type": "stream",
     "text": [
      "go home\n"
     ]
    }
   ],
   "source": [
    "ttfs_changed = []\n",
    "\n",
    "ttfs_changed.append(False)\n",
    "\n",
    "if True in ttfs_changed:\n",
    "    print(\"yes bob I am in ttfs_changed\")\n",
    "else:\n",
    "    print(\"go home\")"
   ]
  },
  {
   "cell_type": "code",
   "execution_count": 18,
   "metadata": {},
   "outputs": [
    {
     "name": "stdout",
     "output_type": "stream",
     "text": [
      "['cost_matrix', 'time_matrix', 'toll_matrix']\n"
     ]
    }
   ],
   "source": [
    "matrix_name = \"\"\n",
    "\n",
    "matrix_name = [\"cost_matrix\", \"time_matrix\", \"toll_matrix\"]\n",
    "\n",
    "print(matrix_name)"
   ]
  },
  {
   "cell_type": "code",
   "execution_count": 19,
   "metadata": {},
   "outputs": [
    {
     "ename": "NameError",
     "evalue": "name 'inro' is not defined",
     "output_type": "error",
     "traceback": [
      "\u001b[1;31m---------------------------------------------------------------------------\u001b[0m",
      "\u001b[1;31mNameError\u001b[0m                                 Traceback (most recent call last)",
      "Input \u001b[1;32mIn [19]\u001b[0m, in \u001b[0;36m<module>\u001b[1;34m\u001b[0m\n\u001b[1;32m----> 1\u001b[0m m \u001b[38;5;241m=\u001b[39m \u001b[43minro\u001b[49m\u001b[38;5;241m.\u001b[39mmodeller\u001b[38;5;241m.\u001b[39mModeller()\n\u001b[0;32m      2\u001b[0m databank \u001b[38;5;241m=\u001b[39m m\u001b[38;5;241m.\u001b[39memmebank\n\u001b[0;32m      4\u001b[0m find \u001b[38;5;241m=\u001b[39m databank\u001b[38;5;241m.\u001b[39mmatrix(\u001b[38;5;124m\"\u001b[39m\u001b[38;5;124mmf999999\u001b[39m\u001b[38;5;124m\"\u001b[39m)\n",
      "\u001b[1;31mNameError\u001b[0m: name 'inro' is not defined"
     ]
    }
   ],
   "source": [
    "m = inro.modeller.Modeller()\n",
    "databank = m.emmebank\n",
    "\n",
    "find = databank.matrix(\"mf999999\")\n",
    "print(\"mf999999 = \", find)\n",
    "\n",
    "\n",
    "find = databank.matrix(\"ww0\")\n",
    "print(\"ww0 = \", find)\n",
    "\n",
    "# for matrix in databank.matrices():\n",
    "#     print(matrix)\n",
    "\n",
    "# _m = inro.modeller \n",
    "# NAMESPACE = \"inro.emme.data.matrix.create_matrix\"\n",
    "# create_matrix = _m.Modeller().tool(NAMESPACE)\n",
    "# new_mat = create_matrix(matrix_id=\"ww0\",\n",
    "#                         matrix_name=\"diftrt\",\n",
    "#                         matrix_description=\"transit time difference\",\n",
    "#                         default_value=0) \n",
    "\n",
    "# print(new_mat.id)\n",
    "\n",
    "import inro.modeller as _m\n",
    "m = _m.Modeller()\n",
    "attributes = m.scenario.extra_attributes()\n",
    "for att in attributes:\n",
    "    print(att.id)\n",
    "print(attributes)"
   ]
  },
  {
   "cell_type": "code",
   "execution_count": 21,
   "metadata": {},
   "outputs": [
    {
     "ename": "NameError",
     "evalue": "name 'inro' is not defined",
     "output_type": "error",
     "traceback": [
      "\u001b[1;31m---------------------------------------------------------------------------\u001b[0m",
      "\u001b[1;31mNameError\u001b[0m                                 Traceback (most recent call last)",
      "Input \u001b[1;32mIn [21]\u001b[0m, in \u001b[0;36m<module>\u001b[1;34m\u001b[0m\n\u001b[0;32m      1\u001b[0m \u001b[38;5;66;03m#NOTE: used to check the tffs difinition in the line\u001b[39;00m\n\u001b[1;32m----> 2\u001b[0m m \u001b[38;5;241m=\u001b[39m \u001b[43minro\u001b[49m\u001b[38;5;241m.\u001b[39mmodeller\u001b[38;5;241m.\u001b[39mModeller()\n\u001b[0;32m      3\u001b[0m databank \u001b[38;5;241m=\u001b[39m m\u001b[38;5;241m.\u001b[39memmebank\n\u001b[0;32m      4\u001b[0m scenario \u001b[38;5;241m=\u001b[39m databank\u001b[38;5;241m.\u001b[39mscenario(\u001b[38;5;241m11\u001b[39m)\n",
      "\u001b[1;31mNameError\u001b[0m: name 'inro' is not defined"
     ]
    }
   ],
   "source": [
    "#NOTE: used to check the tffs difinition in the line\n",
    "m = inro.modeller.Modeller()\n",
    "databank = m.emmebank\n",
    "scenario = databank.scenario(11)\n",
    "# for matrix in databank.matrices():\n",
    "#     print(matrix)\n",
    "network = scenario.get_network()\n",
    "for line in network.transit_lines():\n",
    "    print(line)\n",
    "    segments = line.segments()\n",
    "    for segment in segments:\n",
    "        print(segment.transit_time_func)\n",
    "        break\n",
    "    break"
   ]
  },
  {
   "cell_type": "code",
   "execution_count": 24,
   "metadata": {},
   "outputs": [
    {
     "name": "stdout",
     "output_type": "stream",
     "text": [
      "{0, 1, 2, 9, 10, 11, 12, 13, 14, 15}\n"
     ]
    }
   ],
   "source": [
    "xtmf_XRowTTFRange = \"2, 9-15, 1, 0\"\n",
    "ttfs_xrow = set()\n",
    "xtmf_XRowTTFRange = xtmf_XRowTTFRange.split(\",\")\n",
    "for ttf_range in xtmf_XRowTTFRange:\n",
    "    if \"-\" in ttf_range:\n",
    "        ttf_range = ttf_range.split(\"-\")\n",
    "        for i in range(int(ttf_range[0]), int(ttf_range[1])+1):\n",
    "            ttfs_xrow.add(int(i))\n",
    "    else:\n",
    "        ttfs_xrow.add(int(ttf_range))\n",
    "print(ttfs_xrow)"
   ]
  },
  {
   "cell_type": "code",
   "execution_count": null,
   "metadata": {},
   "outputs": [],
   "source": [
    "if segment.allow_alightings == True and segment.allow_boardings == True:\n",
    "  segment.dwell_time = 0.01\n",
    "else:\n",
    "  segment.dwell_time = 0.0\n",
    "if segment.j_node is None:\n",
    "  continue\n",
    "# ..Segment logic....\n",
    "if segment_number == 0:\n",
    "    continue\n",
    "segment.dwell_time = (segment[\"@tstop\"] * default_duration) / 60\n",
    " # Would become\n",
    " \n",
    "if segment_number > 0:\n",
    "  segment.dwell_time = (segment[\"@tstop\"] * default_duration) / 60\n",
    "else:\n",
    "  segment.dwell_time = 0.0"
   ]
  },
  {
   "cell_type": "code",
   "execution_count": 2,
   "metadata": {},
   "outputs": [
    {
     "name": "stdout",
     "output_type": "stream",
     "text": [
      "151\n"
     ]
    }
   ],
   "source": [
    "nma = [1,2,3,45,100]\n",
    "\n",
    "print(sum(nma))"
   ]
  },
  {
   "cell_type": "code",
   "execution_count": 9,
   "metadata": {},
   "outputs": [
    {
     "name": "stdout",
     "output_type": "stream",
     "text": [
      "1.62\n",
      "1.62\n",
      "1.62\n",
      "1.62\n",
      "1.62\n",
      "{1: [1, 0.41, 1.62], 2: [2, 0.41, 1.62], 3: [3, 0.41, 1.62], 4: [4, 0.41, 1.62], 5: [5, 0.41, 1.62]}\n",
      "1\n"
     ]
    }
   ],
   "source": [
    "lines = \"1: 0.41: 1.62,2: 0.41: 1.62,3: 0.41: 1.62,4: 0.41: 1.62,5: 0.41: 1.62\"\n",
    "# exponent_string = ''.join(lines)\n",
    "# print(lines)\n",
    "exponentList = {}\n",
    "components = lines.split(',')\n",
    "for component in components:\n",
    "    if component.isspace():\n",
    "        continue\n",
    "    parts = component.split(':')\n",
    "    if len(parts) !=3 :\n",
    "        msg = 'Error parsing penalty and filter string: Separate ttf, perception and exponent with colons ttf:perception:exponent'\n",
    "        msg += '. [%s]' % component\n",
    "        raise SyntaxError(msg)\n",
    "    strippedParts = [ item.strip() for item in parts ]\n",
    "    try:\n",
    "        ttf = int(strippedParts[0])\n",
    "    except:\n",
    "        msg = 'ttf value must be an integer'\n",
    "        msg += '. [%s]' % component\n",
    "        raise SyntaxError(msg)\n",
    "\n",
    "    try:\n",
    "        perception = float(strippedParts[1])\n",
    "    except:\n",
    "        msg = 'Perception value must be a number'\n",
    "        msg += '. [%s]' % component\n",
    "        raise SyntaxError(msg)\n",
    "\n",
    "    try:\n",
    "        exponent = float(strippedParts[2])\n",
    "    except:\n",
    "        msg = 'Exponent value must be a number'\n",
    "        msg += '. [%s]' % component\n",
    "        raise SyntaxError(msg)\n",
    "    strippedParts[0] = int(strippedParts[0])\n",
    "    strippedParts[1] = float(strippedParts[1])\n",
    "    strippedParts[2] = float(strippedParts[2])\n",
    "    exponentList[strippedParts[0]] = strippedParts[0:3]\n",
    "    print(strippedParts[2])\n",
    "print(exponentList)\n",
    "ttf=1\n",
    "entry = exponentList[ttf]\n",
    "print(entry[0])"
   ]
  },
  {
   "cell_type": "code",
   "execution_count": 1,
   "metadata": {},
   "outputs": [
    {
     "name": "stdout",
     "output_type": "stream",
     "text": [
      "['f,g,h,i']\n",
      "['f', 'g', 'h', 'i']\n",
      "f\n",
      ",\n",
      "g\n",
      ",\n",
      "h\n",
      ",\n",
      "i\n"
     ]
    }
   ],
   "source": [
    "alpha = []\n",
    "sap = \"f,g,h,i\"\n",
    "alpha.append(sap)\n",
    "print(alpha)\n",
    "print(alpha[0].split(\",\"))\n",
    "\n",
    "for ch in alpha[0]:\n",
    "    print(ch)\n"
   ]
  },
  {
   "cell_type": "code",
   "execution_count": 19,
   "metadata": {},
   "outputs": [
    {
     "name": "stdout",
     "output_type": "stream",
     "text": [
      "[['*']]\n"
     ]
    }
   ],
   "source": [
    "aux_mode_chars = \"u,y,t\"\n",
    "\n",
    "ModeList = \"brvwer*\"\n",
    "ClassModeList = [[\"*\"] if  \"*\" in x else list(set(x + aux_mode_chars) ) for x in ModeList.split(',')]\n",
    "print(ClassModeList)"
   ]
  },
  {
   "cell_type": "code",
   "execution_count": 27,
   "metadata": {},
   "outputs": [
    {
     "name": "stdout",
     "output_type": "stream",
     "text": [
      "0 1 2 3 4 5 6 7 8 9 10 11 12 13 14 15 16 17 18 19 20 21 22 23 24 25 26 27 28 29 30 31 32 33 34 35 36 37 38 39 40 41 42 43 44 45 46 47 48 49 50 51 52 53 54 55 56 57 58 59 60 61 62 63 64 65 66 67 68 69 70 71 72 73 74 75 76 77 78 79 80 81 82 83 84 85 86 87 88 89 90 91 92 93 94 95 96 97 98 99 100 "
     ]
    },
    {
     "ename": "AttributeError",
     "evalue": "'str' object has no attribute 'add'",
     "output_type": "error",
     "traceback": [
      "\u001b[1;31m---------------------------------------------------------------------------\u001b[0m",
      "\u001b[1;31mAttributeError\u001b[0m                            Traceback (most recent call last)",
      "Input \u001b[1;32mIn [27]\u001b[0m, in \u001b[0;36m<module>\u001b[1;34m\u001b[0m\n\u001b[0;32m      4\u001b[0m mpty \u001b[38;5;241m=\u001b[39m \u001b[38;5;124m\"\u001b[39m\u001b[38;5;124m\"\u001b[39m   \n\u001b[0;32m      5\u001b[0m name \u001b[38;5;241m=\u001b[39m \u001b[38;5;124m\"\u001b[39m\u001b[38;5;124mdiogu\u001b[39m\u001b[38;5;124m\"\u001b[39m\n\u001b[1;32m----> 6\u001b[0m \u001b[43mmpty\u001b[49m\u001b[38;5;241;43m.\u001b[39;49m\u001b[43madd\u001b[49m(name)\n\u001b[0;32m      8\u001b[0m \u001b[38;5;28mprint\u001b[39m(mpty)\n",
      "\u001b[1;31mAttributeError\u001b[0m: 'str' object has no attribute 'add'"
     ]
    }
   ],
   "source": [
    "for i in range(0, 100 +1):\n",
    "    print(i, end=\" \")\n",
    "    \n",
    "mpty = \"\"   \n",
    "name = \"diogu\"\n",
    "mpty.add(name)\n",
    "\n",
    "print(mpty)"
   ]
  },
  {
   "cell_type": "code",
   "execution_count": 11,
   "metadata": {},
   "outputs": [],
   "source": [
    "# Python program to write JSON\n",
    "# to a file\n",
    "\n",
    "\n",
    "import json\n",
    "\n",
    "# Data to be written\n",
    "dictionary ={\n",
    "\t\"name\" : \"sathiyajith\",\n",
    "\t\"rollno\" : 56,\n",
    "\t\"cgpa\" : 8.6,\n",
    "\t\"phonenumber\" : \"9976770500\"\n",
    "}\n",
    "\n",
    "# Serializing json\n",
    "json_object = json.dumps(dictionary, indent = 4)\n",
    "\n",
    "# Writing to sample.json\n",
    "with open(\"sample.json\", \"w\") as outfile:\n",
    "\toutfile.write(json_object)\n"
   ]
  }
 ],
 "metadata": {
  "interpreter": {
   "hash": "669f5abd92f1a410df15b0643b9f42360e277a412fc08ae8bc7d7911cf7e8f3d"
  },
  "kernelspec": {
   "display_name": "Python 3.10.2 64-bit",
   "language": "python",
   "name": "python3"
  },
  "language_info": {
   "codemirror_mode": {
    "name": "ipython",
    "version": 3
   },
   "file_extension": ".py",
   "mimetype": "text/x-python",
   "name": "python",
   "nbconvert_exporter": "python",
   "pygments_lexer": "ipython3",
   "version": "3.10.4"
  },
  "orig_nbformat": 4
 },
 "nbformat": 4,
 "nbformat_minor": 2
}
